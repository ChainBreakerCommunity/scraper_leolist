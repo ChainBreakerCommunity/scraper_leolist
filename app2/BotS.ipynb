{
 "cells": [
  {
   "cell_type": "code",
   "execution_count": 1,
   "metadata": {},
   "outputs": [],
   "source": [
    "from utils import scrap_ad_link\n",
    "import utils\n",
    "from utils import get_ads_links, getImageURLS, getId\n",
    "import constants\n",
    "import os \n",
    "import sys\n",
    "import bs4 as bs\n",
    "import time\n",
    "import undetected_chromedriver.v2 as uc\n",
    "import copy\n",
    "import logging\n",
    "from client import ChainBreakerScraper\n",
    "import json"
   ]
  },
  {
   "cell_type": "code",
   "execution_count": 2,
   "metadata": {},
   "outputs": [],
   "source": [
    "# Selenium Libraries.\n",
    "from selenium.common.exceptions import NoSuchElementException\n",
    "from selenium.webdriver.support.ui import WebDriverWait\n",
    "from selenium.webdriver.common.by import By\n",
    "from selenium.webdriver.support import expected_conditions as EC\n",
    "\n",
    "# Recaptcha libraries\n",
    "import speech_recognition as sr\n",
    "import urllib\n",
    "import pydub\n",
    "\n",
    "def enterLeolist(driver):\n",
    "    with driver:\n",
    "        driver.get(\"https://www.leolist.cc/personals/female-escorts/new-brunswick\")\n",
    "    print(\"Current URL: \", driver.current_url)\n",
    "    # Enter to leolist.\n",
    "    close = input(\"Do you have chrome://welcome/ open? Y/N \")\n",
    "    if close == \"Y\":\n",
    "        chrome_window = driver.window_handles[1]\n",
    "        driver.switch_to.window(chrome_window)\n",
    "        driver.close()\n",
    "        leolist_window = driver.window_handles[0]\n",
    "        driver.switch_to.window(leolist_window)\n",
    "        time.sleep(2)\n",
    "    agree_button = driver.find_element_by_xpath(\"/html/body/div[4]/div/div/div/div[2]/a\")\n",
    "    agree_button.click()\n"
   ]
  },
  {
   "cell_type": "code",
   "execution_count": 3,
   "metadata": {},
   "outputs": [
    {
     "name": "stderr",
     "output_type": "stream",
     "text": [
      "WARNING:root:Parameters passed to scraper: http://localhost:8100, jecepedab@unal.edu.co, xxnh12lq\n",
      "WARNING:root:Login was successful.\n",
      "WARNING:root:Waiting 10 seconds before continue.\n",
      "WARNING:root:Searching accept button...\n"
     ]
    },
    {
     "ename": "SyntaxError",
     "evalue": "'return' outside function (<ipython-input-3-eaab9aef78d9>, line 35)",
     "output_type": "error",
     "traceback": [
      "\u001b[1;36m  File \u001b[1;32m\"<ipython-input-3-eaab9aef78d9>\"\u001b[1;36m, line \u001b[1;32m35\u001b[0m\n\u001b[1;33m    return main()\u001b[0m\n\u001b[1;37m    ^\u001b[0m\n\u001b[1;31mSyntaxError\u001b[0m\u001b[1;31m:\u001b[0m 'return' outside function\n"
     ]
    }
   ],
   "source": [
    "with open(\"./config.json\") as json_file: \n",
    "        data = json.load(json_file)\n",
    "\n",
    "endpoint = data[\"endpoint\"]\n",
    "user = data[\"username\"]\n",
    "password = data[\"password\"]\n",
    "selenium_endpoint = data[\"selenium_endpoint\"]   \n",
    "\n",
    "logging.warning(\"Parameters passed to scraper: \" + endpoint + \", \" + user + \", \" + password)\n",
    "client = ChainBreakerScraper(endpoint)\n",
    "res = client.login(user, password)\n",
    "if type(res) != str:\n",
    "    logging.critical(\"Login was not successful.\")\n",
    "    sys.exit()\n",
    "else: \n",
    "    logging.warning(\"Login was successful.\")\n",
    "\n",
    "# Crear driver.\n",
    "driver = uc.Chrome()\n",
    "with driver:\n",
    "    driver.get(\"https://www.leolist.cc/personals/female-escorts/new-brunswick\")\n",
    "logging.warning(\"Waiting 10 seconds before continue.\")\n",
    "#time.sleep(10)\n",
    "#continue_ = input(\"Continue: Y/N\")\n",
    "#agree_button = driver.find_element_by_xpath(\"/html/body/div[4]/div/div/div/div[2]/a\")\n",
    "logging.warning(\"Searching accept button...\")\n",
    "try:\n",
    "    agree_button = driver.find_elements_by_class_name(\"announcementClose\")\n",
    "    print(agree_button)\n",
    "    agree_button[0].click()\n",
    "except: \n",
    "    logging.warning(\"Selenium didnt pass cloudflare test. Retry process.\")\n",
    "    driver.quit()\n",
    "    time.sleep(10)\n",
    "    return main()"
   ]
  },
  {
   "cell_type": "code",
   "execution_count": 6,
   "metadata": {},
   "outputs": [
    {
     "name": "stdout",
     "output_type": "stream",
     "text": [
      "URL CATEGORY:  https://www.leolist.cc/personals/female-escorts/new-brunswick\n",
      "Loading list page...\n"
     ]
    },
    {
     "name": "stderr",
     "output_type": "stream",
     "text": [
      "WARNING:root:# Page: 1\n"
     ]
    }
   ],
   "source": [
    "count_announcement = 1\n",
    "count_category = 0\n",
    "\n",
    "for category in constants.CATEGORIES:\n",
    "    for region in constants.regions:\n",
    "\n",
    "        # Directory list.\n",
    "        url_category = constants.SITE + category + \"/\" + region\n",
    "        print(\"URL CATEGORY: \", url_category)\n",
    "        with driver: \n",
    "            driver.get(url_category)\n",
    "        print(\"Loading list page...\")\n",
    "        time.sleep(3)\n",
    "\n",
    "        # Page lists.\n",
    "        for page in range(1, constants.MAX_PAGES_PER_CATEGORY + 1):\n",
    "            logging.warning(\"# Page: \" + str(page))\n",
    "\n",
    "            if page > 1:\n",
    "                # Change pagination.\n",
    "                divs_pagination = driver.find_elements_by_class_name(\"pagination-link\")\n",
    "                if len(divs_pagination) > 0:\n",
    "                    for pagination in divs_pagination: \n",
    "                        if pagination.get_attribute(\"aria-label\") == \"Next page\":\n",
    "                            pagination.click()\n",
    "                            print(\"Change pagination...\")\n",
    "                            time.sleep(4)\n",
    "                else: \n",
    "                    continue\n",
    "\n",
    "            # Get list url.\n",
    "            menu_url = driver.current_url\n",
    "            list_urls = utils.get_ads_links(driver)\n",
    "            break\n",
    "        break\n",
    "    break"
   ]
  },
  {
   "cell_type": "code",
   "execution_count": 7,
   "metadata": {},
   "outputs": [
    {
     "data": {
      "text/plain": [
       "['https://www.leolist.cc/personals/female-escorts/new-brunswick/moncton_juicy_juicy_latina_online_fun_small_bbw_watch_me_play_with-6826092?source=list',\n",
       " 'https://www.leolist.cc/personals/female-escorts/new-brunswick/moncton_506_804_0912_looking_for_gentlemen_to_satisfy_come_2_me-6123118?source=list',\n",
       " 'https://www.leolist.cc/personals/female-escorts/new-brunswick/fredericton_bootylicious-6462927?source=list',\n",
       " 'https://www.leolist.cc/personals/female-escorts/new-brunswick/saint_john_experienced_cam_girl_5_onlyfans_snapchat_facetime-6587986?source=list',\n",
       " 'https://www.leolist.cc/personals/female-escorts/new-brunswick/saint_john_snapchat_facetime_only_come_play_fetish_friendly_babes-6434255?source=list',\n",
       " 'https://www.leolist.cc/personals/female-escorts/new-brunswick/saint_john_your_personal_porn_star_a_dream_come_true-5716830?source=list',\n",
       " 'https://www.leolist.cc/personals/female-escorts/new-brunswick/moncton_fun_loving_energetic_easy_going_blonde-6602576?source=list',\n",
       " 'https://www.leolist.cc/personals/female-escorts/new-brunswick/saint_john_c_u_r_v_y_d_i_r_t_y_f_l_i_r_t_y-6043752?source=list',\n",
       " 'https://www.leolist.cc/personals/female-escorts/new-brunswick/moncton_top_of_the_line_pretty_petite_magic_mouth-6750531?source=list',\n",
       " 'https://www.leolist.cc/personals/female-escorts/new-brunswick/miramichi_miramichi_outcall_only-6098831?source=list',\n",
       " 'https://www.leolist.cc/personals/female-escorts/new-brunswick/moncton_feb_28th_lexiecaldera_ca-6622256?source=list',\n",
       " 'https://www.leolist.cc/personals/female-escorts/new-brunswick/moncton_new_in_town_outcalls_incalls_online-6829984?source=list',\n",
       " 'https://www.leolist.cc/personals/female-escorts/new-brunswick/moncton_online_eve_mature_sexy_hot_1962_vintage_lady-6449278?source=list',\n",
       " 'https://www.leolist.cc/personals/female-escorts/new-brunswick/saint_john_experience_the_perfection_of_pleasure_with_sasssy-6695982?source=list',\n",
       " 'https://www.leolist.cc/personals/female-escorts/new-brunswick/saint_john_incall_avail_nowperfect_bodyyoungtightjuicy_booty-6541503?source=list',\n",
       " 'https://www.leolist.cc/personals/female-escorts/new-brunswick/saint_john_guaranteed_the_best_you_ve_ever_had_or_will_ever_have-6645280?source=list',\n",
       " 'https://www.leolist.cc/personals/female-escorts/new-brunswick/fredericton_100_party_treats_available-6831674?source=list',\n",
       " 'https://www.leolist.cc/personals/female-escorts/new-brunswick/moncton_new_girl_sexiest_light_skinned_around-6732313?source=list',\n",
       " 'https://www.leolist.cc/personals/female-escorts/new-brunswick/saint_john_wet_sexy_full_service_body_slides_250_hr_150_hh-6693778?source=list',\n",
       " 'https://www.leolist.cc/personals/female-escorts/new-brunswick/saint_john_east_coast_blondie_subscribe_to_my_onlyfans_gentlemen-6831612?source=list',\n",
       " 'https://www.leolist.cc/personals/female-escorts/new-brunswick/moncton_lawless_encounter-6821562?source=list',\n",
       " 'https://www.leolist.cc/personals/female-escorts/new-brunswick/saint_john_horny_milf_just_for_you-6831489?source=list',\n",
       " 'https://www.leolist.cc/personals/female-escorts/new-brunswick/fredericton_fredericton_girls_free_call_506_406_2121_or_6556-6831396?source=list',\n",
       " 'https://www.leolist.cc/personals/female-escorts/new-brunswick/moncton_moncton_girls_free_call_506_804_1374_or_6556-6831393?source=list',\n",
       " 'https://www.leolist.cc/personals/female-escorts/new-brunswick/saint_john_saint_john_girls_free_call_506_799_4324_or_6556-6831390?source=list',\n",
       " 'https://www.leolist.cc/personals/female-escorts/new-brunswick/moncton_tiffany_marie_the_ultimate_companion_onlyfans-4448402?source=list',\n",
       " 'https://www.leolist.cc/personals/female-escorts/new-brunswick/saint_john_huge_sale_of_model_5_unlocks_all_uncensored_vids-6831303?source=list',\n",
       " 'https://www.leolist.cc/personals/female-escorts/new-brunswick/saint_john_back_in_town_ready_to_play-6619098?source=list',\n",
       " 'https://www.leolist.cc/personals/female-escorts/new-brunswick/moncton_available_tuesday_saturday_downtown_moncton-6741905?source=list',\n",
       " 'https://www.leolist.cc/personals/female-escorts/new-brunswick/fredericton_new_hot_and_horny_tonight_only_duos-6738351?source=list',\n",
       " 'https://www.leolist.cc/personals/female-escorts/new-brunswick/fredericton_let_me_be_your_holiday_gift_tatted_red_head_no_rules-6819359?source=list',\n",
       " 'https://www.leolist.cc/personals/female-escorts/new-brunswick/saint_john_incalls_available-5986402?source=list',\n",
       " 'https://www.leolist.cc/personals/female-escorts/new-brunswick/moncton_specials_incall_outcall_lets_be_naughty_baby-6472759?source=list',\n",
       " 'https://www.leolist.cc/personals/female-escorts/new-brunswick/moncton_downtown_monday_and_tuesday_duo_or_solo-5850173?source=list',\n",
       " 'https://www.leolist.cc/personals/female-escorts/new-brunswick/saint_john_passionate_kink_pro_domme_duo_w_aly_sin_506_533_401o-6482337?source=list',\n",
       " 'https://www.leolist.cc/personals/female-escorts/new-brunswick/saint_john_discreet_horny_naughty-6742295?source=list',\n",
       " 'https://www.leolist.cc/personals/female-escorts/new-brunswick/moncton_in_moncton_jan_28_3rd_brunette_bombshell_36d_with_reviews-6830750?source=list',\n",
       " 'https://www.leolist.cc/personals/female-escorts/new-brunswick/saint_john_kitten_looking_for_her_tiger-6823772?source=list',\n",
       " 'https://www.leolist.cc/personals/female-escorts/new-brunswick/moncton_get_laid_for_free_with_a_milf-6830712?source=list',\n",
       " 'https://www.leolist.cc/personals/female-escorts/new-brunswick/moncton_sexy_beautiful_friendly_playful_open_minded-6537647?source=list',\n",
       " 'https://www.leolist.cc/personals/female-escorts/new-brunswick/moncton_duos-6830635?source=list',\n",
       " 'https://www.leolist.cc/personals/female-escorts/new-brunswick/moncton_new_pics-6830631?source=list',\n",
       " 'https://www.leolist.cc/personals/female-escorts/new-brunswick/moncton_playing_in_moncton_now_sunday-6303502?source=list',\n",
       " 'https://www.leolist.cc/personals/female-escorts/new-brunswick/fredericton_av_a_i_l_a_b_l_e_n_o_w_100_realxoxowe_love_what_we_do-6826228?source=list',\n",
       " 'https://www.leolist.cc/personals/female-escorts/new-brunswick/moncton_greek_queen_party_girl-6830466?source=list',\n",
       " 'https://www.leolist.cc/personals/female-escorts/new-brunswick/fredericton_bootylicious_babe-6543243?source=list',\n",
       " 'https://www.leolist.cc/personals/female-escorts/new-brunswick/saint_john_online_cam_squirter-6824282?source=list',\n",
       " 'https://www.leolist.cc/personals/female-escorts/new-brunswick/miramichi_experienced_cam_girl_5_onlyfans_snapchat_facetime-5691750?source=list',\n",
       " 'https://www.leolist.cc/personals/female-escorts/new-brunswick/moncton_mesmerizing_lightskinned_sexy_party_girl-6570832?source=list',\n",
       " 'https://www.leolist.cc/personals/female-escorts/new-brunswick/moncton_n_a_u_g_h_t_y_s-6585353?source=list',\n",
       " 'https://www.leolist.cc/personals/female-escorts/new-brunswick/fredericton_140_hh_all_day-5732173?source=list',\n",
       " 'https://www.leolist.cc/personals/female-escorts/new-brunswick/nb_other_best_online_freak_talya_36ddd_titts_sxting_live_cam_fun-5900357?source=list',\n",
       " 'https://www.leolist.cc/personals/female-escorts/new-brunswick/moncton_catherine_sweeter_than_3_14-5854524?source=list',\n",
       " 'https://www.leolist.cc/personals/female-escorts/new-brunswick/saint_john_online_only_french_pornstar_and_goddess_nemesis_sky-6714492?source=list',\n",
       " 'https://www.leolist.cc/personals/female-escorts/new-brunswick/moncton_new_to_moncton_tall_sexy_horny_milf_let_s_party-6829708?source=list',\n",
       " 'https://www.leolist.cc/personals/female-escorts/new-brunswick/moncton_msantanaxo_gf_e_ps_e_jan_27-6151234?source=list',\n",
       " 'https://www.leolist.cc/personals/female-escorts/new-brunswick/saint_john_wanna_fuck_this_weekend_free_trial_promo-6829575?source=list',\n",
       " 'https://www.leolist.cc/personals/female-escorts/new-brunswick/fredericton_sarah_grey_available_now_incall_and_outcall-6737465?source=list',\n",
       " 'https://www.leolist.cc/personals/female-escorts/new-brunswick/fredericton_hot_and_horny_milf_almost_anything_goes-6048380?source=list',\n",
       " 'https://www.leolist.cc/personals/female-escorts/new-brunswick/moncton_amazing_friendly_service_moncton-5811011?source=list',\n",
       " 'https://www.leolist.cc/personals/female-escorts/new-brunswick/fredericton_fredericton_girls_free_call_506_406_2121_or_6556-6829134?source=list',\n",
       " 'https://www.leolist.cc/personals/female-escorts/new-brunswick/moncton_moncton_girls_free_call_506_804_1374_or_6556-6829131?source=list',\n",
       " 'https://www.leolist.cc/personals/female-escorts/new-brunswick/saint_john_saint_john_girls_free_call_506_799_4324_or_6556-6829129?source=list',\n",
       " 'https://www.leolist.cc/personals/female-escorts/new-brunswick/moncton_online_fun_only-6829117?source=list',\n",
       " 'https://www.leolist.cc/personals/female-escorts/new-brunswick/moncton_mackenzie_here_for_all_your_deepest_darkest_desires-6571761?source=list',\n",
       " 'https://www.leolist.cc/personals/female-escorts/new-brunswick/moncton_120hh_specials_today_only-6303299?source=list',\n",
       " 'https://www.leolist.cc/personals/female-escorts/new-brunswick/moncton_wknd_snowstorm_get_drained_out_fed_full_refreshed_first-6539165?source=list',\n",
       " 'https://www.leolist.cc/personals/female-escorts/new-brunswick/saint_john_100_party_treats_available-6828858?source=list',\n",
       " 'https://www.leolist.cc/personals/female-escorts/new-brunswick/moncton_outcalls_all_day_night-6312247?source=list',\n",
       " 'https://www.leolist.cc/personals/female-escorts/new-brunswick/fredericton_sexy_warm_skinned_25_yr_tight_horny_brunette-6722767?source=list',\n",
       " 'https://www.leolist.cc/personals/female-escorts/new-brunswick/moncton_in_moncton_jan_28_3rd_brunette_bombshell_36d_with_reviews-6828815?source=list',\n",
       " 'https://www.leolist.cc/personals/female-escorts/new-brunswick/saint_john_the_definition_of_delight_visiting_soon_saint_john-3602198?source=list',\n",
       " 'https://www.leolist.cc/personals/female-escorts/new-brunswick/fredericton_8_onlyfans_maritimeprincess-6828658?source=list',\n",
       " 'https://www.leolist.cc/personals/female-escorts/new-brunswick/moncton_feeling_frisky_treat_yourself_xxx_playtime-5791442?source=list',\n",
       " 'https://www.leolist.cc/personals/female-escorts/new-brunswick/moncton_it_s_friday_let_s_fuck_free_trial-6828640?source=list',\n",
       " 'https://www.leolist.cc/personals/female-escorts/new-brunswick/moncton_moncton_w-6004342?source=list',\n",
       " 'https://www.leolist.cc/personals/female-escorts/new-brunswick/moncton_onlyfans_hot_model-6624509?source=list',\n",
       " 'https://www.leolist.cc/personals/female-escorts/new-brunswick/saint_john_sexy_virtual_girl_natalie_here_to_have_some_fun-6686051?source=list',\n",
       " 'https://www.leolist.cc/personals/female-escorts/new-brunswick/saint_john_irinasky_webcam_fun_stripper_experience_private_show-6828314?source=list',\n",
       " 'https://www.leolist.cc/personals/female-escorts/new-brunswick/nb_other_limited_time_outcalls_only_upscale_baddie_here-6828249?source=list',\n",
       " 'https://www.leolist.cc/personals/female-escorts/new-brunswick/dieppe_-6828166?source=list',\n",
       " 'https://www.leolist.cc/personals/female-escorts/new-brunswick/moncton_100_party_treats_available-6827995?source=list',\n",
       " 'https://www.leolist.cc/personals/female-escorts/new-brunswick/moncton_100_party_treats_available-6827993?source=list',\n",
       " 'https://www.leolist.cc/personals/female-escorts/new-brunswick/saint_john_lawless_encounter-6753247?source=list',\n",
       " 'https://www.leolist.cc/personals/female-escorts/new-brunswick/fredericton_here_to_save_the_day_so_come_play-5751396?source=list',\n",
       " 'https://www.leolist.cc/personals/female-escorts/new-brunswick/fredericton_100_realprettywetpussygirllegitskilled-6827678?source=list',\n",
       " 'https://www.leolist.cc/personals/female-escorts/new-brunswick/moncton_playful_sexy_fetish_friendly_real_here_ready_to_cum-6730921?source=list',\n",
       " 'https://www.leolist.cc/personals/female-escorts/new-brunswick/fredericton_real_pretty_wet_girl_legit-6827642?source=list',\n",
       " 'https://www.leolist.cc/personals/female-escorts/new-brunswick/moncton_come_find_out_what_you_ve_been_missing_desiree-6629611?source=list',\n",
       " 'https://www.leolist.cc/personals/female-escorts/new-brunswick/saint_john_-6299586?source=list',\n",
       " 'https://www.leolist.cc/personals/female-escorts/new-brunswick/moncton_great_rate_pretty_face-6589079?source=list',\n",
       " 'https://www.leolist.cc/personals/female-escorts/new-brunswick/fredericton_8_onlyfans_maritimeprincess-6827494?source=list',\n",
       " 'https://www.leolist.cc/personals/female-escorts/new-brunswick/moncton_best_bits_of_a_wife_without_fuckin_up_your_life_cum_see_me-6003405?source=list',\n",
       " 'https://www.leolist.cc/personals/female-escorts/new-brunswick/moncton_kira_s_in_moncton-6734285?source=list',\n",
       " 'https://www.leolist.cc/personals/female-escorts/new-brunswick/moncton_now_in_moncton_britannya_dream_french_companion-6749578?source=list',\n",
       " 'https://www.leolist.cc/personals/female-escorts/new-brunswick/moncton_dallas_blow_job_queen-6827165?source=list',\n",
       " 'https://www.leolist.cc/personals/female-escorts/new-brunswick/saint_john_onlyfans_latina_model-6621311?source=list',\n",
       " 'https://www.leolist.cc/personals/female-escorts/new-brunswick/moncton_in_moncton_jan_28_3rd_brunette_bombshell_36d_with_reviews-6826970?source=list',\n",
       " 'https://www.leolist.cc/personals/female-escorts/new-brunswick/saint_john_want_to_fuck_a_milf_today-6826862?source=list',\n",
       " 'https://www.leolist.cc/personals/female-escorts/new-brunswick/moncton_the_definition_of_delight_visiting_soon_moncton-3719594?source=list']"
      ]
     },
     "execution_count": 7,
     "metadata": {},
     "output_type": "execute_result"
    }
   ],
   "source": [
    "list_urls"
   ]
  },
  {
   "cell_type": "code",
   "execution_count": 5,
   "metadata": {},
   "outputs": [
    {
     "data": {
      "text/plain": [
       "'https://www.leolist.cc/personals/female-escorts/new-brunswick'"
      ]
     },
     "execution_count": 5,
     "metadata": {},
     "output_type": "execute_result"
    }
   ],
   "source": [
    "driver.current_url"
   ]
  },
  {
   "cell_type": "code",
   "execution_count": 9,
   "metadata": {},
   "outputs": [],
   "source": [
    "url = 'https://www.leolist.cc/personals/female-escorts/new-brunswick/moncton_juicy_juicy_latina_online_fun_small_bbw_watch_me_play_with-6826092?source=list'"
   ]
  },
  {
   "cell_type": "code",
   "execution_count": 10,
   "metadata": {},
   "outputs": [],
   "source": [
    "with driver:\n",
    "    driver.get(url)"
   ]
  },
  {
   "cell_type": "code",
   "execution_count": 14,
   "metadata": {},
   "outputs": [],
   "source": [
    "res = driver.execute_script('document.getElementById(\"g-recaptcha-response\")')"
   ]
  },
  {
   "cell_type": "code",
   "execution_count": 16,
   "metadata": {},
   "outputs": [
    {
     "data": {
      "text/plain": [
       "True"
      ]
     },
     "execution_count": 16,
     "metadata": {},
     "output_type": "execute_result"
    }
   ],
   "source": [
    "res == None"
   ]
  },
  {
   "cell_type": "code",
   "execution_count": null,
   "metadata": {},
   "outputs": [],
   "source": []
  }
 ],
 "metadata": {
  "kernelspec": {
   "display_name": "Python 3",
   "language": "python",
   "name": "python3"
  },
  "language_info": {
   "codemirror_mode": {
    "name": "ipython",
    "version": 3
   },
   "file_extension": ".py",
   "mimetype": "text/x-python",
   "name": "python",
   "nbconvert_exporter": "python",
   "pygments_lexer": "ipython3",
   "version": "3.7.3"
  }
 },
 "nbformat": 4,
 "nbformat_minor": 4
}
