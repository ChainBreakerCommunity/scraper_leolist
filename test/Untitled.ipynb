{
 "cells": [
  {
   "cell_type": "code",
   "execution_count": 8,
   "metadata": {},
   "outputs": [
    {
     "ename": "gaierror",
     "evalue": "[Errno 11001] getaddrinfo failed",
     "output_type": "error",
     "traceback": [
      "\u001b[1;31m---------------------------------------------------------------------------\u001b[0m",
      "\u001b[1;31mgaierror\u001b[0m                                  Traceback (most recent call last)",
      "\u001b[1;32m<ipython-input-8-9c97465d6bff>\u001b[0m in \u001b[0;36m<module>\u001b[1;34m\u001b[0m\n\u001b[0;32m      5\u001b[0m \u001b[0mctx\u001b[0m \u001b[1;33m=\u001b[0m \u001b[0mssl\u001b[0m\u001b[1;33m.\u001b[0m\u001b[0mcreate_default_context\u001b[0m\u001b[1;33m(\u001b[0m\u001b[1;33m)\u001b[0m\u001b[1;33m\u001b[0m\u001b[1;33m\u001b[0m\u001b[0m\n\u001b[0;32m      6\u001b[0m \u001b[0ms\u001b[0m \u001b[1;33m=\u001b[0m \u001b[0mctx\u001b[0m\u001b[1;33m.\u001b[0m\u001b[0mwrap_socket\u001b[0m\u001b[1;33m(\u001b[0m\u001b[0msocket\u001b[0m\u001b[1;33m.\u001b[0m\u001b[0msocket\u001b[0m\u001b[1;33m(\u001b[0m\u001b[1;33m)\u001b[0m\u001b[1;33m,\u001b[0m \u001b[0mserver_hostname\u001b[0m\u001b[1;33m=\u001b[0m\u001b[0mhostname\u001b[0m\u001b[1;33m)\u001b[0m\u001b[1;33m\u001b[0m\u001b[1;33m\u001b[0m\u001b[0m\n\u001b[1;32m----> 7\u001b[1;33m \u001b[0ms\u001b[0m\u001b[1;33m.\u001b[0m\u001b[0mconnect\u001b[0m\u001b[1;33m(\u001b[0m\u001b[1;33m(\u001b[0m\u001b[0mhostname\u001b[0m\u001b[1;33m,\u001b[0m \u001b[1;36m443\u001b[0m\u001b[1;33m)\u001b[0m\u001b[1;33m)\u001b[0m\u001b[1;33m\u001b[0m\u001b[1;33m\u001b[0m\u001b[0m\n\u001b[0m\u001b[0;32m      8\u001b[0m \u001b[0mder\u001b[0m \u001b[1;33m=\u001b[0m \u001b[0ms\u001b[0m\u001b[1;33m.\u001b[0m\u001b[0mgetpeercert\u001b[0m\u001b[1;33m(\u001b[0m\u001b[0mbinary_form\u001b[0m\u001b[1;33m=\u001b[0m\u001b[1;32mTrue\u001b[0m\u001b[1;33m)\u001b[0m\u001b[1;33m\u001b[0m\u001b[1;33m\u001b[0m\u001b[0m\n\u001b[0;32m      9\u001b[0m \u001b[0mcert\u001b[0m \u001b[1;33m=\u001b[0m \u001b[0mx509\u001b[0m\u001b[1;33m.\u001b[0m\u001b[0mCertificate\u001b[0m\u001b[1;33m.\u001b[0m\u001b[0mload\u001b[0m\u001b[1;33m(\u001b[0m\u001b[0mder\u001b[0m\u001b[1;33m)\u001b[0m\u001b[1;33m\u001b[0m\u001b[1;33m\u001b[0m\u001b[0m\n",
      "\u001b[1;32m~\\Anaconda3\\lib\\ssl.py\u001b[0m in \u001b[0;36mconnect\u001b[1;34m(self, addr)\u001b[0m\n\u001b[0;32m   1148\u001b[0m         \"\"\"Connects to remote ADDR, and then wraps the connection in\n\u001b[0;32m   1149\u001b[0m         an SSL channel.\"\"\"\n\u001b[1;32m-> 1150\u001b[1;33m         \u001b[0mself\u001b[0m\u001b[1;33m.\u001b[0m\u001b[0m_real_connect\u001b[0m\u001b[1;33m(\u001b[0m\u001b[0maddr\u001b[0m\u001b[1;33m,\u001b[0m \u001b[1;32mFalse\u001b[0m\u001b[1;33m)\u001b[0m\u001b[1;33m\u001b[0m\u001b[1;33m\u001b[0m\u001b[0m\n\u001b[0m\u001b[0;32m   1151\u001b[0m \u001b[1;33m\u001b[0m\u001b[0m\n\u001b[0;32m   1152\u001b[0m     \u001b[1;32mdef\u001b[0m \u001b[0mconnect_ex\u001b[0m\u001b[1;33m(\u001b[0m\u001b[0mself\u001b[0m\u001b[1;33m,\u001b[0m \u001b[0maddr\u001b[0m\u001b[1;33m)\u001b[0m\u001b[1;33m:\u001b[0m\u001b[1;33m\u001b[0m\u001b[1;33m\u001b[0m\u001b[0m\n",
      "\u001b[1;32m~\\Anaconda3\\lib\\ssl.py\u001b[0m in \u001b[0;36m_real_connect\u001b[1;34m(self, addr, connect_ex)\u001b[0m\n\u001b[0;32m   1135\u001b[0m             \u001b[1;32melse\u001b[0m\u001b[1;33m:\u001b[0m\u001b[1;33m\u001b[0m\u001b[1;33m\u001b[0m\u001b[0m\n\u001b[0;32m   1136\u001b[0m                 \u001b[0mrc\u001b[0m \u001b[1;33m=\u001b[0m \u001b[1;32mNone\u001b[0m\u001b[1;33m\u001b[0m\u001b[1;33m\u001b[0m\u001b[0m\n\u001b[1;32m-> 1137\u001b[1;33m                 \u001b[0msuper\u001b[0m\u001b[1;33m(\u001b[0m\u001b[1;33m)\u001b[0m\u001b[1;33m.\u001b[0m\u001b[0mconnect\u001b[0m\u001b[1;33m(\u001b[0m\u001b[0maddr\u001b[0m\u001b[1;33m)\u001b[0m\u001b[1;33m\u001b[0m\u001b[1;33m\u001b[0m\u001b[0m\n\u001b[0m\u001b[0;32m   1138\u001b[0m             \u001b[1;32mif\u001b[0m \u001b[1;32mnot\u001b[0m \u001b[0mrc\u001b[0m\u001b[1;33m:\u001b[0m\u001b[1;33m\u001b[0m\u001b[1;33m\u001b[0m\u001b[0m\n\u001b[0;32m   1139\u001b[0m                 \u001b[0mself\u001b[0m\u001b[1;33m.\u001b[0m\u001b[0m_connected\u001b[0m \u001b[1;33m=\u001b[0m \u001b[1;32mTrue\u001b[0m\u001b[1;33m\u001b[0m\u001b[1;33m\u001b[0m\u001b[0m\n",
      "\u001b[1;31mgaierror\u001b[0m: [Errno 11001] getaddrinfo failed"
     ]
    }
   ],
   "source": [
    "import ssl, socket\n",
    "from asn1crypto import pem, x509\n",
    "\n",
    "hostname = 'https://2captcha.com'\n",
    "ctx = ssl.create_default_context()\n",
    "s = ctx.wrap_socket(socket.socket(), server_hostname=hostname)\n",
    "s.connect((hostname, 443))\n",
    "der = s.getpeercert(binary_form=True)\n",
    "cert = x509.Certificate.load(der)\n",
    "#pubkey = cert.public_key.unwrap()\n",
    "#print(pubkey)\n",
    "print(pubkey[\"modulus\"].native)"
   ]
  },
  {
   "cell_type": "code",
   "execution_count": 6,
   "metadata": {},
   "outputs": [
    {
     "name": "stdout",
     "output_type": "stream",
     "text": [
      "-----BEGIN PUBLIC KEY-----\n",
      "AoIBAQDMXDSphbN4r1vfNJosD4ABuNCuhSeBE2C1WOXzi8kry7f1E3kO42srp05W\n",
      "gzx0Bcp3jSKU2EXD9bqME+K+I45mZgCuBJSteprAaWo1Ns8ogovL4chxfRCpU0WG\n",
      "ko7zore0vft5PY3j1t7cZQnci6MBQv9Llwgjnyh8xKHAkemp9hJm8bxDfdOuL88b\n",
      "FuOuCqsc+6ASNxuuZVsAPV6R0y6sTJZ2Iopglemmx8kl6bNgP/r6W1K1xxQso09e\n",
      "GK0zXu9G3Jmqfs1sQYzED11Ok4LRambQsAobw9bXAs3QWG6BkbhQLOs4XxYxfrTq\n",
      "0qY0/CNeNkLqCs+fxO5wp4uctKQ1AgMBAAE=\n",
      "-----END PUBLIC KEY-----\n",
      "\n"
     ]
    }
   ],
   "source": [
    "print(pem.armor(\"PUBLIC KEY\", pubkey.contents).decode(\"ASCII\"))"
   ]
  },
  {
   "cell_type": "code",
   "execution_count": 7,
   "metadata": {},
   "outputs": [],
   "source": [
    "\n",
    "import sys\n",
    "import os\n",
    "import requests"
   ]
  },
  {
   "cell_type": "code",
   "execution_count": 8,
   "metadata": {},
   "outputs": [],
   "source": [
    "resp = requests.get(\"http://2captcha.com/demo/geetest\")\n",
    "challenge = resp.content.decode('utf-8').split(';')[0]"
   ]
  },
  {
   "cell_type": "code",
   "execution_count": 9,
   "metadata": {},
   "outputs": [
    {
     "data": {
      "text/plain": [
       "'<!DOCTYPE html>\\n<html lang=\"en\" >\\n  <head>\\n    <meta charset=\"UTF-8\" />\\n    <meta http-equiv=\"X-UA-Compatible\" content=\"IE=edge\" />\\n    <meta name=\"viewport\" content=\"width=device-width, initial-scale=1\" />\\n    <!-- Google Tag Manager --> <script>(function(w,d,s,l,i){w[l]=w[l]||[]'"
      ]
     },
     "execution_count": 9,
     "metadata": {},
     "output_type": "execute_result"
    }
   ],
   "source": [
    "challenge"
   ]
  },
  {
   "cell_type": "code",
   "execution_count": 4,
   "metadata": {},
   "outputs": [
    {
     "ename": "SystemExit",
     "evalue": "ERROR_CAPTCHA_UNSOLVABLE",
     "output_type": "error",
     "traceback": [
      "An exception has occurred, use %tb to see the full traceback.\n",
      "\u001b[1;31mSystemExit\u001b[0m\u001b[1;31m:\u001b[0m ERROR_CAPTCHA_UNSOLVABLE\n"
     ]
    }
   ],
   "source": [
    "# https://github.com/2captcha/2captcha-python\n",
    "\n",
    "import sys\n",
    "import os\n",
    "import requests\n",
    "#sys.path.append(os.path.dirname(os.path.dirname(os.path.realpath(__file__))))\n",
    "\n",
    "from twocaptcha import TwoCaptcha\n",
    "\n",
    "key = \"0968ef0f2a24ff3d1b8ba332afd980f4\"\n",
    "api_key = os.getenv('APIKEY_2CAPTCHA', key)\n",
    "\n",
    "solver = TwoCaptcha(api_key)\n",
    "\n",
    "resp = requests.get(\"http://2captcha.com/demo/geetest\")\n",
    "challenge = resp.content.decode('utf-8').split(';')[0]\n",
    "\n",
    "try:\n",
    "    result = solver.geetest(gt='f3bf6dbdcf7886856696502e1d55e00c',\n",
    "                            apiServer='api.geetest.com',\n",
    "                            challenge=challenge,\n",
    "                            url='https://2captcha.com/demo/geetest')\n",
    "\n",
    "except Exception as e:\n",
    "    sys.exit(e)\n",
    "\n",
    "else:\n",
    "    sys.exit('solved: ' + str(result))"
   ]
  },
  {
   "cell_type": "code",
   "execution_count": null,
   "metadata": {},
   "outputs": [],
   "source": [
    "https://gcaptcha4.geetest.com/load?captcha_id=72bf15796d0b69c43867452fea615052&challenge=aff007a5-6b44-4b7a-9d1a-48ddcbc4ecce&client_type=web&lang=en&callback=geetest_1649247918989"
   ]
  },
  {
   "cell_type": "code",
   "execution_count": 11,
   "metadata": {},
   "outputs": [
    {
     "ename": "SystemExit",
     "evalue": "ERROR_CAPTCHA_UNSOLVABLE",
     "output_type": "error",
     "traceback": [
      "An exception has occurred, use %tb to see the full traceback.\n",
      "\u001b[1;31mSystemExit\u001b[0m\u001b[1;31m:\u001b[0m ERROR_CAPTCHA_UNSOLVABLE\n"
     ]
    }
   ],
   "source": [
    "# https://github.com/2captcha/2captcha-python\n",
    "\n",
    "import sys\n",
    "import os\n",
    "import requests\n",
    "#sys.path.append(os.path.dirname(os.path.dirname(os.path.realpath(__file__))))\n",
    "\n",
    "from twocaptcha import TwoCaptcha\n",
    "\n",
    "key = \"0968ef0f2a24ff3d1b8ba332afd980f4\"\n",
    "api_key = os.getenv('APIKEY_2CAPTCHA', key)\n",
    "\n",
    "solver = TwoCaptcha(api_key)\n",
    "\n",
    "resp = requests.get(\"http://2captcha.com/demo/geetest\")\n",
    "challenge = \"aff007a5-6b44-4b7a-9d1a-48ddcbc4ecce\"#resp.content.decode('utf-8').split(';')[0]\n",
    "\n",
    "try:\n",
    "    result = solver.geetest(gt='72bf15796d0b69c43867452fea615052',\n",
    "                            apiServer='api.geetest.com',\n",
    "                            challenge=challenge,\n",
    "                            url='https://www.leolist.cc/personals/female-escorts/greater-toronto/durham_stripper_upscale_playmate_lets_play_daddy-6985565')\n",
    "\n",
    "except Exception as e:\n",
    "    sys.exit(e)\n",
    "\n",
    "else:\n",
    "    sys.exit('solved: ' + str(result))"
   ]
  },
  {
   "cell_type": "code",
   "execution_count": 10,
   "metadata": {},
   "outputs": [
    {
     "ename": "SystemExit",
     "evalue": "ERROR_CAPTCHA_UNSOLVABLE",
     "output_type": "error",
     "traceback": [
      "\u001b[1;31m---------------------------------------------------------------------------\u001b[0m",
      "\u001b[1;31mSystemExit\u001b[0m                                Traceback (most recent call last)",
      "\u001b[1;32m<ipython-input-9-a9053e994bcc>\u001b[0m in \u001b[0;36m<module>\u001b[1;34m\u001b[0m\n\u001b[0;32m     23\u001b[0m \u001b[1;33m\u001b[0m\u001b[0m\n\u001b[0;32m     24\u001b[0m \u001b[1;32mexcept\u001b[0m \u001b[0mException\u001b[0m \u001b[1;32mas\u001b[0m \u001b[0me\u001b[0m\u001b[1;33m:\u001b[0m\u001b[1;33m\u001b[0m\u001b[1;33m\u001b[0m\u001b[0m\n\u001b[1;32m---> 25\u001b[1;33m     \u001b[0msys\u001b[0m\u001b[1;33m.\u001b[0m\u001b[0mexit\u001b[0m\u001b[1;33m(\u001b[0m\u001b[0me\u001b[0m\u001b[1;33m)\u001b[0m\u001b[1;33m\u001b[0m\u001b[1;33m\u001b[0m\u001b[0m\n\u001b[0m\u001b[0;32m     26\u001b[0m \u001b[1;33m\u001b[0m\u001b[0m\n\u001b[0;32m     27\u001b[0m \u001b[1;32melse\u001b[0m\u001b[1;33m:\u001b[0m\u001b[1;33m\u001b[0m\u001b[1;33m\u001b[0m\u001b[0m\n",
      "\u001b[1;32m<ipython-input-9-a9053e994bcc>\u001b[0m in \u001b[0;36m<module>\u001b[1;34m\u001b[0m\n\u001b[0;32m     20\u001b[0m                             \u001b[0mapiServer\u001b[0m\u001b[1;33m=\u001b[0m\u001b[1;34m'api.geetest.com'\u001b[0m\u001b[1;33m,\u001b[0m\u001b[1;33m\u001b[0m\u001b[1;33m\u001b[0m\u001b[0m\n\u001b[0;32m     21\u001b[0m                             \u001b[0mchallenge\u001b[0m\u001b[1;33m=\u001b[0m\u001b[0mchallenge\u001b[0m\u001b[1;33m,\u001b[0m\u001b[1;33m\u001b[0m\u001b[1;33m\u001b[0m\u001b[0m\n\u001b[1;32m---> 22\u001b[1;33m                             url='https://2captcha.com/demo/geetest')\n\u001b[0m\u001b[0;32m     23\u001b[0m \u001b[1;33m\u001b[0m\u001b[0m\n\u001b[0;32m     24\u001b[0m \u001b[1;32mexcept\u001b[0m \u001b[0mException\u001b[0m \u001b[1;32mas\u001b[0m \u001b[0me\u001b[0m\u001b[1;33m:\u001b[0m\u001b[1;33m\u001b[0m\u001b[1;33m\u001b[0m\u001b[0m\n",
      "\u001b[1;32m~\\Anaconda3\\lib\\site-packages\\twocaptcha\\solver.py\u001b[0m in \u001b[0;36mgeetest\u001b[1;34m(self, gt, challenge, url, **kwargs)\u001b[0m\n\u001b[0;32m    176\u001b[0m                             \u001b[0murl\u001b[0m\u001b[1;33m=\u001b[0m\u001b[0murl\u001b[0m\u001b[1;33m,\u001b[0m\u001b[1;33m\u001b[0m\u001b[1;33m\u001b[0m\u001b[0m\n\u001b[0;32m    177\u001b[0m                             \u001b[0mmethod\u001b[0m\u001b[1;33m=\u001b[0m\u001b[1;34m'geetest'\u001b[0m\u001b[1;33m,\u001b[0m\u001b[1;33m\u001b[0m\u001b[1;33m\u001b[0m\u001b[0m\n\u001b[1;32m--> 178\u001b[1;33m                             **kwargs)\n\u001b[0m\u001b[0;32m    179\u001b[0m         \u001b[1;32mreturn\u001b[0m \u001b[0mresult\u001b[0m\u001b[1;33m\u001b[0m\u001b[1;33m\u001b[0m\u001b[0m\n\u001b[0;32m    180\u001b[0m \u001b[1;33m\u001b[0m\u001b[0m\n",
      "\u001b[1;32m~\\Anaconda3\\lib\\site-packages\\twocaptcha\\solver.py\u001b[0m in \u001b[0;36msolve\u001b[1;34m(self, timeout, polling_interval, **kwargs)\u001b[0m\n\u001b[0;32m    409\u001b[0m             \u001b[0msleep\u001b[0m \u001b[1;33m=\u001b[0m \u001b[0mint\u001b[0m\u001b[1;33m(\u001b[0m\u001b[0mpolling_interval\u001b[0m \u001b[1;32mor\u001b[0m \u001b[0mself\u001b[0m\u001b[1;33m.\u001b[0m\u001b[0mpolling_interval\u001b[0m\u001b[1;33m)\u001b[0m\u001b[1;33m\u001b[0m\u001b[1;33m\u001b[0m\u001b[0m\n\u001b[0;32m    410\u001b[0m \u001b[1;33m\u001b[0m\u001b[0m\n\u001b[1;32m--> 411\u001b[1;33m             \u001b[0mcode\u001b[0m \u001b[1;33m=\u001b[0m \u001b[0mself\u001b[0m\u001b[1;33m.\u001b[0m\u001b[0mwait_result\u001b[0m\u001b[1;33m(\u001b[0m\u001b[0mid_\u001b[0m\u001b[1;33m,\u001b[0m \u001b[0mtimeout\u001b[0m\u001b[1;33m,\u001b[0m \u001b[0msleep\u001b[0m\u001b[1;33m)\u001b[0m\u001b[1;33m\u001b[0m\u001b[1;33m\u001b[0m\u001b[0m\n\u001b[0m\u001b[0;32m    412\u001b[0m             \u001b[0mresult\u001b[0m\u001b[1;33m.\u001b[0m\u001b[0mupdate\u001b[0m\u001b[1;33m(\u001b[0m\u001b[1;33m{\u001b[0m\u001b[1;34m'code'\u001b[0m\u001b[1;33m:\u001b[0m \u001b[0mcode\u001b[0m\u001b[1;33m}\u001b[0m\u001b[1;33m)\u001b[0m\u001b[1;33m\u001b[0m\u001b[1;33m\u001b[0m\u001b[0m\n\u001b[0;32m    413\u001b[0m \u001b[1;33m\u001b[0m\u001b[0m\n",
      "\u001b[1;32m~\\Anaconda3\\lib\\site-packages\\twocaptcha\\solver.py\u001b[0m in \u001b[0;36mwait_result\u001b[1;34m(self, id_, timeout, polling_interval)\u001b[0m\n\u001b[0;32m    421\u001b[0m \u001b[1;33m\u001b[0m\u001b[0m\n\u001b[0;32m    422\u001b[0m             \u001b[1;32mtry\u001b[0m\u001b[1;33m:\u001b[0m\u001b[1;33m\u001b[0m\u001b[1;33m\u001b[0m\u001b[0m\n\u001b[1;32m--> 423\u001b[1;33m                 \u001b[1;32mreturn\u001b[0m \u001b[0mself\u001b[0m\u001b[1;33m.\u001b[0m\u001b[0mget_result\u001b[0m\u001b[1;33m(\u001b[0m\u001b[0mid_\u001b[0m\u001b[1;33m)\u001b[0m\u001b[1;33m\u001b[0m\u001b[1;33m\u001b[0m\u001b[0m\n\u001b[0m\u001b[0;32m    424\u001b[0m \u001b[1;33m\u001b[0m\u001b[0m\n\u001b[0;32m    425\u001b[0m             \u001b[1;32mexcept\u001b[0m \u001b[0mNetworkException\u001b[0m\u001b[1;33m:\u001b[0m\u001b[1;33m\u001b[0m\u001b[1;33m\u001b[0m\u001b[0m\n",
      "\u001b[1;32m~\\Anaconda3\\lib\\site-packages\\twocaptcha\\solver.py\u001b[0m in \u001b[0;36mget_result\u001b[1;34m(self, id_)\u001b[0m\n\u001b[0;32m    464\u001b[0m     \u001b[1;32mdef\u001b[0m \u001b[0mget_result\u001b[0m\u001b[1;33m(\u001b[0m\u001b[0mself\u001b[0m\u001b[1;33m,\u001b[0m \u001b[0mid_\u001b[0m\u001b[1;33m)\u001b[0m\u001b[1;33m:\u001b[0m\u001b[1;33m\u001b[0m\u001b[1;33m\u001b[0m\u001b[0m\n\u001b[0;32m    465\u001b[0m \u001b[1;33m\u001b[0m\u001b[0m\n\u001b[1;32m--> 466\u001b[1;33m         \u001b[0mresponse\u001b[0m \u001b[1;33m=\u001b[0m \u001b[0mself\u001b[0m\u001b[1;33m.\u001b[0m\u001b[0mapi_client\u001b[0m\u001b[1;33m.\u001b[0m\u001b[0mres\u001b[0m\u001b[1;33m(\u001b[0m\u001b[0mkey\u001b[0m\u001b[1;33m=\u001b[0m\u001b[0mself\u001b[0m\u001b[1;33m.\u001b[0m\u001b[0mAPI_KEY\u001b[0m\u001b[1;33m,\u001b[0m \u001b[0maction\u001b[0m\u001b[1;33m=\u001b[0m\u001b[1;34m'get'\u001b[0m\u001b[1;33m,\u001b[0m \u001b[0mid\u001b[0m\u001b[1;33m=\u001b[0m\u001b[0mid_\u001b[0m\u001b[1;33m)\u001b[0m\u001b[1;33m\u001b[0m\u001b[1;33m\u001b[0m\u001b[0m\n\u001b[0m\u001b[0;32m    467\u001b[0m \u001b[1;33m\u001b[0m\u001b[0m\n\u001b[0;32m    468\u001b[0m         \u001b[1;32mif\u001b[0m \u001b[0mresponse\u001b[0m \u001b[1;33m==\u001b[0m \u001b[1;34m'CAPCHA_NOT_READY'\u001b[0m\u001b[1;33m:\u001b[0m\u001b[1;33m\u001b[0m\u001b[1;33m\u001b[0m\u001b[0m\n",
      "\u001b[1;32m~\\Anaconda3\\lib\\site-packages\\twocaptcha\\api.py\u001b[0m in \u001b[0;36mres\u001b[1;34m(self, **kwargs)\u001b[0m\n\u001b[0;32m    111\u001b[0m \u001b[1;33m\u001b[0m\u001b[0m\n\u001b[0;32m    112\u001b[0m             \u001b[1;32mif\u001b[0m \u001b[1;34m'ERROR'\u001b[0m \u001b[1;32min\u001b[0m \u001b[0mresp\u001b[0m\u001b[1;33m:\u001b[0m\u001b[1;33m\u001b[0m\u001b[1;33m\u001b[0m\u001b[0m\n\u001b[1;32m--> 113\u001b[1;33m                 \u001b[1;32mraise\u001b[0m \u001b[0mApiException\u001b[0m\u001b[1;33m(\u001b[0m\u001b[0mresp\u001b[0m\u001b[1;33m)\u001b[0m\u001b[1;33m\u001b[0m\u001b[1;33m\u001b[0m\u001b[0m\n\u001b[0m\u001b[0;32m    114\u001b[0m \u001b[1;33m\u001b[0m\u001b[0m\n\u001b[0;32m    115\u001b[0m         \u001b[1;32mexcept\u001b[0m \u001b[0mrequests\u001b[0m\u001b[1;33m.\u001b[0m\u001b[0mRequestException\u001b[0m \u001b[1;32mas\u001b[0m \u001b[0me\u001b[0m\u001b[1;33m:\u001b[0m\u001b[1;33m\u001b[0m\u001b[1;33m\u001b[0m\u001b[0m\n",
      "\u001b[1;31mSystemExit\u001b[0m: ERROR_CAPTCHA_UNSOLVABLE"
     ]
    }
   ],
   "source": [
    "%tb"
   ]
  },
  {
   "cell_type": "code",
   "execution_count": null,
   "metadata": {},
   "outputs": [],
   "source": [
    "https://api.geetest.com/get.php?is_next=true&type=slide3&\n",
    "gt=81388ea1fc187e0c335c0a8907ff2625\n",
    "challenge=3a127889796250c072137a7770daca18\n",
    "lang=en&https=false&protocol=https%3A%2F%2F&offline=false&product=embed&api_server=api.geetest.com&isPC=true&autoReset=true&width=100%25&callback=geetest_1649248565573"
   ]
  },
  {
   "cell_type": "code",
   "execution_count": null,
   "metadata": {},
   "outputs": [],
   "source": [
    "https://gcaptcha4.geetest.com/load?\n",
    "captcha_id=e392e1d7fd421dc63325744d5a2b9c73&\n",
    "challenge=83ed70c1-1462-4099-9a8e-a37e1d4c2c7b&\n",
    "client_type=web&\n",
    "lang=en&\n",
    "callback=geetest_1649249968663"
   ]
  },
  {
   "cell_type": "code",
   "execution_count": 44,
   "metadata": {},
   "outputs": [
    {
     "ename": "SystemExit",
     "evalue": "ERROR_CAPTCHA_UNSOLVABLE",
     "output_type": "error",
     "traceback": [
      "An exception has occurred, use %tb to see the full traceback.\n",
      "\u001b[1;31mSystemExit\u001b[0m\u001b[1;31m:\u001b[0m ERROR_CAPTCHA_UNSOLVABLE\n"
     ]
    }
   ],
   "source": [
    "# https://github.com/2captcha/2captcha-python\n",
    "\n",
    "import sys\n",
    "import os\n",
    "import requests\n",
    "#sys.path.append(os.path.dirname(os.path.dirname(os.path.realpath(__file__))))\n",
    "\n",
    "from twocaptcha import TwoCaptcha\n",
    "\n",
    "key = \"0968ef0f2a24ff3d1b8ba332afd980f4\"\n",
    "api_key = key #os.getenv('APIKEY_2CAPTCHA', key)\n",
    "\n",
    "solver = TwoCaptcha(api_key)\n",
    "\n",
    "#resp = requests.get(\"http://2captcha.com/demo/geetest\")\n",
    "#challenge = resp.content.decode('utf-8').split(';')[0]\n",
    "\n",
    "try:\n",
    "    result = solver.geetest(gt='e392e1d7fd421dc63325744d5a2b9c73',\n",
    "                            #apiServer='api.geetest.com',\n",
    "                            challenge=\"83ed70c1-1462-4099-9a8e-a37e1d4c2c7b\",\n",
    "                            url='https://2captcha.com/demo/geetest-v4')\n",
    "\n",
    "except Exception as e:\n",
    "    sys.exit(e)\n",
    "\n",
    "else:\n",
    "    sys.exit('solved: ' + str(result))"
   ]
  },
  {
   "cell_type": "code",
   "execution_count": null,
   "metadata": {},
   "outputs": [],
   "source": []
  },
  {
   "cell_type": "code",
   "execution_count": null,
   "metadata": {},
   "outputs": [],
   "source": [
    "https://api.geetest.com/get.php?gt=81388ea1fc187e0c335c0a8907ff2625&challenge=d25e3875a15b25580014e4333674d29e&lang=en&pt=0&client_type=web&w=tsO67Awr3Rc(esSLVBekOqFzx1AYmrh(oTMOqm9E8BQl5)zsODGKQEPWwl06wn6ofFkQ5Ucti3mI5UhDqsPB4QmEgQw8NPtOcM4Ll5sA5INZLOphiSUblaW5bi4l9cjvoSetBYnijjpYS9LDA5GbSmfXfd5bacRVlM3aADSgN704n3ZsKICoiLV(lETlt)6sHS64lffALPTvVWsE)dpuxPcPhx8jVj7O4JUYQOD5cMGP8)NcQosiIM2Yq4qSoeaiZzAKJXcAY1zNU34YAwMTEJ5zsNG(dTpg6WEUwVuObiHvC(Be)8RPyjyj0Xkn9wxy8RU1qn6BDQ7YgX2dkCmJu5SphxAJNe2L6qdHWwEIEBEZZTuFQCpTZO0xnYvu2WsZ7UMPiBqCnI96mOSuTLPh6GTJPmv)uNuhx0I0tU9HAdQym3VgQZ6a3niG0RFod3gxV0iLerCmRj(g87HCxFVKZX8lj6tRYSjYFykNGCELMYVhhrPmDH07TSaFnNIflH2(qJ)pX(8D034OmDqr4BuDVOkBDf43ZOXx4XhTVx)1nEoI8mPSa3uExLyxoF1VRH)8Rxf9zY)W)7YE6Tl7eG8HFY(SOB(ZnDFO0RdB17S9b)fQjCi1Zu7dm(Feakecksg3EixbtIAWPtAF2jqkxbJ4AkCbvrV3yJdzlHYWwT2(zfIO9IHYzwvEARiZcguGeuGHrFpCK0zGEtyc45uoLyZoZAiQRvZSxYc1wxuqiolZ(u4Six4VDZn4dniwR8ueucGNz1YC)XK8)PbSziLPUHgp7sbUV65KDxnwucxzvJOHdBSS4PTRUDQ12llkm2RTprESpr7KX33cg4zidJK8PHxnGmiC9IzLLK1rABp7NyN7J2AEnpRExEoRf)3uje9e(nr2fwpRHwZ4N097NZB5sO8(4K7DemK)n4KTTcitDR11WwyKqMOCL20kXt7vBqDOBLtj9eHkMmEGghsACM37CSeMWjyGM2i(LSKi1CStMwkHsmuH20AzAfDN2OQ5a6nVRb8cg0R7ihLbtYBhg2gtiRhOcWEu(LH4aloJqYlkqBMYWV1qdMe0Gmd5Lgp5ibJ4Gux8i9Wz2)auANKNH4abws3Aoo55iaKFjSKLkFLjzwQ8uq3A63YLQfuMeDaxwPW5rXzESjUHtk9VfoJVUQnUk3d1BW48BHM4FuQJEpj(dMdyKiqpmX(2Jqt5H3T6pPUlYQ9orfxFGkPfxjCPqZuBCPjROSaDa(((7uQnidKn7)7BbFjwW1FGOkes5cv0f(cKOIfgekVSlQEt9qPBAGnn75Z8PwGW10bVCd8K3eqQWhLVrj4ogiPrrVbxi7PqTkLK)UK4gIZ87wYYPrwj7noKQD2ifwX7ANR3e(gbrWNh)BVkRGfLGULbN4LP56t7oAXQ6y4nPNn0X)G3BTWWRuGoajdk86GaqNhiY7vbXtmgx9E2FfsyMreCc(H2ajTb0P6Sk)Erz5cw9WxN(Ub(i6Kj7q2Ic1OMpJwJnmNbpYx0PzB(ksfy)3HwC2VYz4ZaCjHL)7C)qlXe6Y(4llMfvzVJKGbPb0nc1qgNmM4hRd5XE1u)om8g5P6bi)u9m1Sh8eJGUD3200RJqR0db1oMuJM7k1wkCiXwonzLMPlg42jWK4Pd)rGC92J34Xu3ACq0pC(89rXkuyeoLJA9faUWYAZdjxp57xnTsjE(15Saf9UH8bOj11oTVEAJ)G81jwLmQNdmpmLFtpsgb9LxJ1i8Ds7DCgCqN4nrauMtag0AVrFqWNTqedAMDIrfOm3dRE(N(MmLERf)Ka0Qa)dFESexVVJFXdbt2m)faBoO4E2rp)E8P5AFI0y)Dgja5eNZJO9xqDOMU2k47kWOKT1RoQUMqjoXjwETAIwM8Kjq00LzOUEwcgVNRYvUN)h0Qgz1jnrQ(y79WPQWzcs3a7q8sdkEuoyNQSVLpcR0WMOYo1x9Wbwi4v5Ca2o2xWpCYCTsaWtOBRnXtqiENXgjdwVA2vPsWVn3z(SYNUweVchrdt9wLm)hZxPAo10KVJ)JLkuBeagOYV5QjP4P6Ln0EUn2qKeyZLqgAxR)MmCY4N(8)DA1tNEmXY4wzgp(HcFWQ5oE7RIMEEmV)NwvxLuIjmAC0gMcinsmTSkKfFRV5jgYSgkM07qBP9kBPj0Dat1H8QBbEyt20Fkeu1pkc5cUNYlx6YWsCSxTthiCpdWuKXoQt7YeqOpfOkl)7ahH0GvR7GoOyTxahG0otOlEH1bl6h2i((UrnfEG5Y5V9QktEuXozvZNyoRGZWI7qlDizMvvWmzxm)z)H04EyYJnhZg5dhWMFofJmDUpKIbKZ91uAi7IPZE2q5WkcNuf5yoZcjVW4UyTnCPMqQbZibPKJHypdWimRPRgsYqevUT9qQ..af2bbfc5e2aff0f7a0a37103dde9455457517fdda8874e1c0808e7e12f45a495812c9f183380cdeac967da2d17d0d61edfda38b849d6bc4cf8c35c0b2ea9f40a003d95217e66f18889526bf33e40cdc00b6ce2a26d4d0338b7782c799921598d6e5d248fabab885c81cf7f799c37a82302cfaabecdc28d7e5144164fce5e6307&callback=geetest_1649249052689"
   ]
  },
  {
   "cell_type": "code",
   "execution_count": 28,
   "metadata": {},
   "outputs": [],
   "source": [
    "message = \"https://2captcha.com/in.php?key=0968ef0f2a24ff3d1b8ba332afd980f4&method=geetest&gt=81388ea1fc187e0c335c0a8907ff2625&challenge=d25e3875a15b25580014e4333674d29e&api_server=api-na.geetest.com&pageurl=http://2captcha.com/demo/geetest\"\n",
    "import requests as res\n",
    "result = res.post(message)"
   ]
  },
  {
   "cell_type": "code",
   "execution_count": 38,
   "metadata": {},
   "outputs": [
    {
     "data": {
      "text/plain": [
       "'OK|70049719738'"
      ]
     },
     "execution_count": 38,
     "metadata": {},
     "output_type": "execute_result"
    }
   ],
   "source": [
    "result.text"
   ]
  },
  {
   "cell_type": "code",
   "execution_count": 39,
   "metadata": {},
   "outputs": [],
   "source": [
    "result2 = res.get(\"https://2captcha.com/res.php?key=0968ef0f2a24ff3d1b8ba332afd980f4&action=get&id=70049719738\")"
   ]
  },
  {
   "cell_type": "code",
   "execution_count": 40,
   "metadata": {},
   "outputs": [
    {
     "data": {
      "text/plain": [
       "<Response [200]>"
      ]
     },
     "execution_count": 40,
     "metadata": {},
     "output_type": "execute_result"
    }
   ],
   "source": [
    "result2"
   ]
  },
  {
   "cell_type": "code",
   "execution_count": 41,
   "metadata": {},
   "outputs": [
    {
     "data": {
      "text/plain": [
       "'ERROR_CAPTCHA_UNSOLVABLE'"
      ]
     },
     "execution_count": 41,
     "metadata": {},
     "output_type": "execute_result"
    }
   ],
   "source": [
    "result2.text"
   ]
  },
  {
   "cell_type": "code",
   "execution_count": null,
   "metadata": {},
   "outputs": [],
   "source": [
    "6Le-wvkSAAAAAPBMRTvw0Q4Muexq9bi0DJwx_mJ-"
   ]
  },
  {
   "cell_type": "code",
   "execution_count": 46,
   "metadata": {},
   "outputs": [
    {
     "ename": "SystemExit",
     "evalue": "solved: {'captchaId': '70050142459', 'code': '03AGdBq24EdnYUtx6uJAA0IJB-bGWoGBZx7L4T9cHGoM24MZjQ34jvIF1TIif2_lGkwMAsIES51-JC3CVLBJQeCbZk8xziL4E11-vxABVyuhzMjv26hquCmoqhu3Khit5VZh9euDn2TmWjjJmQYOWM2_EaToAQ9UQdbtpW7hW0O19QE8Blm4qrclMsrOpHzelOM9o8HZALwZkj6HwwYmzK79xBezQQvKmgv1iXtYxf-dLAoMf049IcPdtY_0lmyP9vvxhks716mm02eBOg11l5LIelhzWht47syhDQ1vL3S3TqdIq9G011J6297pkj2X_zi5jQz_XLacj2XbJ_6vrLixBU_ytvVPJURIDiokCq3EhrzP3RYbj0RE4TK3qXlDHUV2JJqq7FJP-c2LyMtYtRDWS7HONnDSYyfA4LKHXp5YN7C71ZlDfu7Q6Q1a91FHbk-MH36231nNW4mbw6Pg752rkzlj6PJe3zj3ftBVf7an4h9S1iMKLqSBm5hDw-dNltXrmkEEvkxZ3F0lRe9H0n3SCeZOH4oax2PnM3F-3cz_9ddUg9RAKFBN_pyoMx6shMcB_i_mRxxSXXeeYhMNlPFgI29_eC3kvuTGNBQ7p3_pDBOY3TRLO3uzv7av3QfYCi0s82bn1YuCW_hmFguQt4pyM4AKg1UCzA2amJwAARQBvOR6AyTSwfv-H4V4NRSUy3-k-tGklQF4N-dTRNwJq7nvJa1QM2xetBuqSp3ZAibjkVpCSZ8A0gKCqug7YeF_ouzotPN7YnN2T5yyiXCGSH4sc1sBzOPTxH9D9Nnqao4QYLoaMiJdML-avTi_E-_-cib2w-PyyjvCFRB8dkFvzF0SyXKbVNMSRuTLxkTdarfEhUr8IO1IXAIhruvcsRu7BXYyr0FAHeeK8WlubbAOICgM-xT5fU98moDDSRG-Fe5R0OcLRrNfU-1-ncdD1XczE0KMTXBtlqI_q2plZ5S8OATdsr4JCwue8XkSJEpADoPAL8GJAUxzq-g9dFzXQWlf5TETRHnn671NfJBSmobvTlPPUflzNHmzKXoXJfs_dX0I4CQaEdldVQM065l8nqpNQQJuu-Pda7cJ8sOWW7ZumradgiNQv_sws7ZqgUxQewxPEmCRktlQsz6qIfxamPOP2lEVVRzl-WfeDkX_xdU8swcyOJasBH2iLYnR7l_sksiX1l9N4Zv83NZPcECus74xZELi8sN1PzOY5l5e29VLQiL5ABExY_usaly4D8dViOtmGMJk8HoekxvE0u94hWGJihJPEA0uY2BwdcDhBz8a_gFZ07_wFcU9tiYW0jnqPJcuSEPfmtKUqIwvOUsI3GpY0HaZRYtTOA9B--ab8aKFCRnkltgINknJ_gITiVIZk8R9nzC_HWDLCrH4rnZ5D9KlDMZkMgvKDlUEUkEDqffm9775dAlfO6Y4wloncqok_fUCrs95pbV_eT0xLsL53LLJ6xJJQCnNJ5Culk4espY2bFO5ICXVTTLxujuF_sq5Ot76BpkO9wnH831eAKgeHGRUaFAJyy3qBRrgeiYR15Z5ehJeANDMRlXEY6qHJw-YrF3-TChMXtwDtxP9A6ffM_3hYu6UNEb_PDJRiIYxO181SYZQW_CBP52_YlbQ'}",
     "output_type": "error",
     "traceback": [
      "An exception has occurred, use %tb to see the full traceback.\n",
      "\u001b[1;31mSystemExit\u001b[0m\u001b[1;31m:\u001b[0m solved: {'captchaId': '70050142459', 'code': '03AGdBq24EdnYUtx6uJAA0IJB-bGWoGBZx7L4T9cHGoM24MZjQ34jvIF1TIif2_lGkwMAsIES51-JC3CVLBJQeCbZk8xziL4E11-vxABVyuhzMjv26hquCmoqhu3Khit5VZh9euDn2TmWjjJmQYOWM2_EaToAQ9UQdbtpW7hW0O19QE8Blm4qrclMsrOpHzelOM9o8HZALwZkj6HwwYmzK79xBezQQvKmgv1iXtYxf-dLAoMf049IcPdtY_0lmyP9vvxhks716mm02eBOg11l5LIelhzWht47syhDQ1vL3S3TqdIq9G011J6297pkj2X_zi5jQz_XLacj2XbJ_6vrLixBU_ytvVPJURIDiokCq3EhrzP3RYbj0RE4TK3qXlDHUV2JJqq7FJP-c2LyMtYtRDWS7HONnDSYyfA4LKHXp5YN7C71ZlDfu7Q6Q1a91FHbk-MH36231nNW4mbw6Pg752rkzlj6PJe3zj3ftBVf7an4h9S1iMKLqSBm5hDw-dNltXrmkEEvkxZ3F0lRe9H0n3SCeZOH4oax2PnM3F-3cz_9ddUg9RAKFBN_pyoMx6shMcB_i_mRxxSXXeeYhMNlPFgI29_eC3kvuTGNBQ7p3_pDBOY3TRLO3uzv7av3QfYCi0s82bn1YuCW_hmFguQt4pyM4AKg1UCzA2amJwAARQBvOR6AyTSwfv-H4V4NRSUy3-k-tGklQF4N-dTRNwJq7nvJa1QM2xetBuqSp3ZAibjkVpCSZ8A0gKCqug7YeF_ouzotPN7YnN2T5yyiXCGSH4sc1sBzOPTxH9D9Nnqao4QYLoaMiJdML-avTi_E-_-cib2w-PyyjvCFRB8dkFvzF0SyXKbVNMSRuTLxkTdarfEhUr8IO1IXAIhruvcsRu7BXYyr0FAHeeK8WlubbAOICgM-xT5fU98moDDSRG-Fe5R0OcLRrNfU-1-ncdD1XczE0KMTXBtlqI_q2plZ5S8OATdsr4JCwue8XkSJEpADoPAL8GJAUxzq-g9dFzXQWlf5TETRHnn671NfJBSmobvTlPPUflzNHmzKXoXJfs_dX0I4CQaEdldVQM065l8nqpNQQJuu-Pda7cJ8sOWW7ZumradgiNQv_sws7ZqgUxQewxPEmCRktlQsz6qIfxamPOP2lEVVRzl-WfeDkX_xdU8swcyOJasBH2iLYnR7l_sksiX1l9N4Zv83NZPcECus74xZELi8sN1PzOY5l5e29VLQiL5ABExY_usaly4D8dViOtmGMJk8HoekxvE0u94hWGJihJPEA0uY2BwdcDhBz8a_gFZ07_wFcU9tiYW0jnqPJcuSEPfmtKUqIwvOUsI3GpY0HaZRYtTOA9B--ab8aKFCRnkltgINknJ_gITiVIZk8R9nzC_HWDLCrH4rnZ5D9KlDMZkMgvKDlUEUkEDqffm9775dAlfO6Y4wloncqok_fUCrs95pbV_eT0xLsL53LLJ6xJJQCnNJ5Culk4espY2bFO5ICXVTTLxujuF_sq5Ot76BpkO9wnH831eAKgeHGRUaFAJyy3qBRrgeiYR15Z5ehJeANDMRlXEY6qHJw-YrF3-TChMXtwDtxP9A6ffM_3hYu6UNEb_PDJRiIYxO181SYZQW_CBP52_YlbQ'}\n"
     ]
    }
   ],
   "source": [
    "import sys\n",
    "import os\n",
    "\n",
    "#sys.path.append(os.path.dirname(os.path.dirname(os.path.realpath(__file__))))\n",
    "\n",
    "from twocaptcha import TwoCaptcha\n",
    "\n",
    "api_key = os.getenv('APIKEY_2CAPTCHA', api_key)\n",
    "\n",
    "solver = TwoCaptcha(api_key)\n",
    "\n",
    "try:\n",
    "    result = solver.recaptcha(\n",
    "        sitekey='6Le-wvkSAAAAAPBMRTvw0Q4Muexq9bi0DJwx_mJ-',\n",
    "        url='https://www.google.com/recaptcha/api2/demo')\n",
    "\n",
    "except Exception as e:\n",
    "    sys.exit(e)\n",
    "\n",
    "else:\n",
    "    sys.exit('solved: ' + str(result))"
   ]
  },
  {
   "cell_type": "code",
   "execution_count": 47,
   "metadata": {},
   "outputs": [],
   "source": [
    "code = \"03AGdBq24EdnYUtx6uJAA0IJB-bGWoGBZx7L4T9cHGoM24MZjQ34jvIF1TIif2_lGkwMAsIES51-JC3CVLBJQeCbZk8xziL4E11-vxABVyuhzMjv26hquCmoqhu3Khit5VZh9euDn2TmWjjJmQYOWM2_EaToAQ9UQdbtpW7hW0O19QE8Blm4qrclMsrOpHzelOM9o8HZALwZkj6HwwYmzK79xBezQQvKmgv1iXtYxf-dLAoMf049IcPdtY_0lmyP9vvxhks716mm02eBOg11l5LIelhzWht47syhDQ1vL3S3TqdIq9G011J6297pkj2X_zi5jQz_XLacj2XbJ_6vrLixBU_ytvVPJURIDiokCq3EhrzP3RYbj0RE4TK3qXlDHUV2JJqq7FJP-c2LyMtYtRDWS7HONnDSYyfA4LKHXp5YN7C71ZlDfu7Q6Q1a91FHbk-MH36231nNW4mbw6Pg752rkzlj6PJe3zj3ftBVf7an4h9S1iMKLqSBm5hDw-dNltXrmkEEvkxZ3F0lRe9H0n3SCeZOH4oax2PnM3F-3cz_9ddUg9RAKFBN_pyoMx6shMcB_i_mRxxSXXeeYhMNlPFgI29_eC3kvuTGNBQ7p3_pDBOY3TRLO3uzv7av3QfYCi0s82bn1YuCW_hmFguQt4pyM4AKg1UCzA2amJwAARQBvOR6AyTSwfv-H4V4NRSUy3-k-tGklQF4N-dTRNwJq7nvJa1QM2xetBuqSp3ZAibjkVpCSZ8A0gKCqug7YeF_ouzotPN7YnN2T5yyiXCGSH4sc1sBzOPTxH9D9Nnqao4QYLoaMiJdML-avTi_E-_-cib2w-PyyjvCFRB8dkFvzF0SyXKbVNMSRuTLxkTdarfEhUr8IO1IXAIhruvcsRu7BXYyr0FAHeeK8WlubbAOICgM-xT5fU98moDDSRG-Fe5R0OcLRrNfU-1-ncdD1XczE0KMTXBtlqI_q2plZ5S8OATdsr4JCwue8XkSJEpADoPAL8GJAUxzq-g9dFzXQWlf5TETRHnn671NfJBSmobvTlPPUflzNHmzKXoXJfs_dX0I4CQaEdldVQM065l8nqpNQQJuu-Pda7cJ8sOWW7ZumradgiNQv_sws7ZqgUxQewxPEmCRktlQsz6qIfxamPOP2lEVVRzl-WfeDkX_xdU8swcyOJasBH2iLYnR7l_sksiX1l9N4Zv83NZPcECus74xZELi8sN1PzOY5l5e29VLQiL5ABExY_usaly4D8dViOtmGMJk8HoekxvE0u94hWGJihJPEA0uY2BwdcDhBz8a_gFZ07_wFcU9tiYW0jnqPJcuSEPfmtKUqIwvOUsI3GpY0HaZRYtTOA9B--ab8aKFCRnkltgINknJ_gITiVIZk8R9nzC_HWDLCrH4rnZ5D9KlDMZkMgvKDlUEUkEDqffm9775dAlfO6Y4wloncqok_fUCrs95pbV_eT0xLsL53LLJ6xJJQCnNJ5Culk4espY2bFO5ICXVTTLxujuF_sq5Ot76BpkO9wnH831eAKgeHGRUaFAJyy3qBRrgeiYR15Z5ehJeANDMRlXEY6qHJw-YrF3-TChMXtwDtxP9A6ffM_3hYu6UNEb_PDJRiIYxO181SYZQW_CBP52_YlbQ\""
   ]
  },
  {
   "cell_type": "code",
   "execution_count": null,
   "metadata": {},
   "outputs": [],
   "source": [
    "https://api.geetest.com/get.php?is_next=true&type=slide3&gt=022397c99c9f646f6477822485f30404&challenge=2031ded2e511d754c19da1209db9023f&lang=en&https=true&protocol=https%3A%2F%2F&offline=false&product=embed&api_server=api.geetest.com&isPC=true&autoReset=true&width=100%25&callback=geetest_1649252681227"
   ]
  },
  {
   "cell_type": "code",
   "execution_count": 60,
   "metadata": {},
   "outputs": [
    {
     "ename": "SystemExit",
     "evalue": "ERROR_CAPTCHA_UNSOLVABLE",
     "output_type": "error",
     "traceback": [
      "An exception has occurred, use %tb to see the full traceback.\n",
      "\u001b[1;31mSystemExit\u001b[0m\u001b[1;31m:\u001b[0m ERROR_CAPTCHA_UNSOLVABLE\n"
     ]
    }
   ],
   "source": [
    "# https://github.com/2captcha/2captcha-python\n",
    "\n",
    "import sys\n",
    "import os\n",
    "import requests\n",
    "#sys.path.append(os.path.dirname(os.path.dirname(os.path.realpath(__file__))))\n",
    "\n",
    "from twocaptcha import TwoCaptcha\n",
    "\n",
    "key = \"0968ef0f2a24ff3d1b8ba332afd980f4\"\n",
    "api_key = key #os.getenv('APIKEY_2CAPTCHA', key)\n",
    "\n",
    "solver = TwoCaptcha(api_key)\n",
    "\n",
    "#resp = requests.get(\"http://2captcha.com/demo/geetest\")\n",
    "#challenge = resp.content.decode('utf-8').split(';')[0]\n",
    "\n",
    "#https://api.geetest.com/get.php?gt=022397c99c9f646f6477822485f30404&challenge=a176f1e96c2a70f4ede2cee659bc21c8&lang=en&pt=0&client_type=web&w=d99CcyazKL1uEfeAFkv6fxDLiJKx8psWdzLLcXd0PLGCQ9BMb4zQ4GHNoSWrzl2eC5urONQxxBB3o(GiP9Tf9gMwF9nd2m3I784rmJjUVKahmkR6lYa3euzhruflATv2Cr8tI93WMxn7S9OkZ58rvCoj9hzQrZwKR)gZ(UePFhoXCq2Q9kDdqAr53SVg(cAIn4K(lR4gOk)Xi7dOE5l2EkPVVk9nSa9J2SKyF3V5VmhDoUxkj2vm0edsYGHywitnRsQuwZF(OObKNMA)xK2D55MuFNVxvbcfvZKKQHE8Rr(gUl8ulmcSugPCMYlVlzxRrbjGWQ3HQ)BjaCGcchQv7au(FrBzGMlrvvw04NkMFtm2lF2yjBWuppnB099mcwXnVTRPeQYnH5ye9O9kDdXIBGXLh7PLcSHf9TUj8v5WuEBs(aL1c5zr6iZW0Rf1f9SDbRGSbhxA0HdS8jXmhnrsp11C0EC(AegkqBhpToql4UDWfW(WBl4qVNocFQKP3afJ5Rwo4bmgDwGJZ8mYczsHIO0pNNT(1IL(KP5JC3sH2d(sRmxVMqUFsOcXhyeLMyIk)SBVdGn1rllYBEz2KF0lDaId1)WHWlK7nVNGzj8A1q367K8OSjInEEvwRbwkJKstdDuyui7duHArQTBVatsCA)tYXR5EDMIQO9dM2TcqLSsEzXPwsQipiv2vi1soKfNEUb80LXS1phhcy4OG7rzp6BdxE8Fl(gZvTkI7HHmzCbEg8nunO8baHeQEIoCDrggm3xIqcCYq2tRUlVof7d83A2NWRa2zEpl1E4Af89CPq6uKDGdCLfOgVBmig4LgHVdS(LK)DT46iomIV5MqHJqBHkKD()flT8LqR8euLbiDtWmPH)q2zhu9tSE4GkEd4NIbtyGODoKdSQn(5qguHflcHJeAeall)JRBSWwGTkIe27nec50BtznJfmMt3hQ9uDp9m0ER4CjfEGF2eLVibwBPlW6rY4aATEQw3K8fMZMM(6RNpQnTAuWT2PqEiXWTVocUUyJq1AuYMaLO7XezWb(0puVmAqmzCs0cR8Z26g2a4YEwlNZrZn4fpvKUo1esmHgd3BsSBzG)8ZkwK6aMdTVq5yyq1Q2NMnyRSWhbSmV8j4hnox9bITno20tpbOM7Sjnyo8ZsAOvXaqoGpL3D92z5BIz5XfYCG5yPk6emsLcVnQW7LviRAb5K9RvraDBAgy4)zP913O4cYDXcBl54z98B8N3HoGHUH5RWqtAEYEYIlACSPOfnsouKEgTaswj9Z1VLHLpKnhG16XEWDkA0xj3X2XzUt5jLcrY8H2d2NAPCOI)t9v0dqzWVG1eC1LnjyuDnLL6ZUiuMldmMNoZQ(kWvjNfb)nN0ANCrAbW8pKK2MkuWNTpyq3dWKXssvGE5pUEN6AYRviqYyuo(AxNst4Hp2suewkjj1NyQl9HcoeSZpNp7c1tW30YbFpg0vKokxd6zHYTh3Iu8V8AsFlg2j4T76FucZpCSBFWEESM2KHYOPV0yHzPuYDdp8xL7OeJUCvzZUG325ZAMER85e2d)eHpmj3()pwDaFUjzBvZs(7MlfnjYf1HvT(QzgO9Xrx3xfD4Sq)SPObWE5jBUY(xTnVAAgAxCCxXAZRHVfIhYMsEMSx0rNoD0xr0kxm4vTsSBybI8DPMN4Frz8X21MN8lqXIB(JuIFfqZ3fe4pA3jA2xjiAo6epOFkt7i0rJ(5LZeUCelhdii7IaCoMOHuHtTKhT08XZONzceLgMpu3MXRsZfPqCPqm1sdO1wV7GYArnIyqfHnGqAZHTxcte7JxuCS6GoK9e(X)XYQd31T2vnugQoP)2AYOnrhBUJ6OZljWe2szZqbfQMJvp)YxaULh5ekr83mMHsVuJYlR4RGksYZ)fxgiv9a0JqoFMlF7gUaRynvKgV7Tm5Uj7b1iXT3)FWVta3ELxG6umBktt5mZxv8HXxn1Q8TCNEzP2JyH3GBrj9mKbAFhbbbSbRJ4wyfjm(AEV50(GlGXmZUDtLrxWWnVAdyI1aPAIL8TpyB4062eZL)l5MTq6JoHNj8Qwx0AxE5ZUFChNQXlgAZWiC7PkCrnlcqJhU3ICw2qNal6K3Ql9aPuDnZrUxTH(IjjoquKynFbj(tUZvTBOdRdVKOkAwdnV3aPKq42dNYdn6KP6IF1Jz)02CYc4jV1Mf4TOIZ1FxclZMclisNzKBCjq8(FA9CGpP()BDemaAR3tkWGmT)KoTa(bIyKsxX)erKvCH0MhgxFy3grLiD0ihyE)DrG8XgU)OSmEdIMP0aoux0dpeCTctpOr)k9AVZoebPjBa8Ggf2DUqmVHths6)e3oCvEGmDjCApoQnKRz)F5SM96CgRsOuEPJyIE3L9LM83Hn2DkuiB0098VXmM)3sb3)iMMl792FrqiM.8464e7fbffbf36152c2def1c25a6630fe5eda16f87f810e2dd5305286ab6598503f437b48bdf4f844f0d752e07eb9a13ceb41d652a986a5634fcd8359ec8e9588442cf8c40d546f72ef44a97d4ec23568d3d40c05512538d7173dd6fdf568d712b35ca16dda20d4d5db5c4380eae47ee0d9ab082776d9f8a83dee6ad51a27836&callback=geetest_1649254013148\n",
    "\n",
    "try:\n",
    "    result = solver.geetest(gt='022397c99c9f646f6477822485f30404',\n",
    "                            apiServer='api.geetest.com',\n",
    "                            challenge=\"a176f1e96c2a70f4ede2cee659bc21c8\",\n",
    "                            url='https://www.geetest.com/en/demo')\n",
    "\n",
    "except Exception as e:\n",
    "    sys.exit(e)\n",
    "\n",
    "else:\n",
    "    sys.exit('solved: ' + str(result))"
   ]
  },
  {
   "cell_type": "code",
   "execution_count": 50,
   "metadata": {},
   "outputs": [
    {
     "data": {
      "text/plain": [
       "32"
      ]
     },
     "execution_count": 50,
     "metadata": {},
     "output_type": "execute_result"
    }
   ],
   "source": [
    "text = \"78c3be7141ec48a8a4a60c1438146899\"\n",
    "len(text)"
   ]
  },
  {
   "cell_type": "code",
   "execution_count": null,
   "metadata": {},
   "outputs": [],
   "source": [
    "<script charset=\"UTF-8\" async=\"\" \n",
    "\n",
    "src=\"https://gcaptcha4.geetest.com/load?captcha_id=72bf15796d0b69c43867452fea615052&amp;challenge=1996325b-d846-4001-a3cc-d7c9c1859ee6&amp;client_type=web&amp;lang=en&amp;callback=geetest_1649253231689\"></script>"
   ]
  },
  {
   "cell_type": "code",
   "execution_count": 58,
   "metadata": {},
   "outputs": [
    {
     "ename": "SystemExit",
     "evalue": "ERROR_CAPTCHA_UNSOLVABLE",
     "output_type": "error",
     "traceback": [
      "An exception has occurred, use %tb to see the full traceback.\n",
      "\u001b[1;31mSystemExit\u001b[0m\u001b[1;31m:\u001b[0m ERROR_CAPTCHA_UNSOLVABLE\n"
     ]
    }
   ],
   "source": [
    "# https://github.com/2captcha/2captcha-python\n",
    "\n",
    "import sys\n",
    "import os\n",
    "import requests\n",
    "#sys.path.append(os.path.dirname(os.path.dirname(os.path.realpath(__file__))))\n",
    "\n",
    "from twocaptcha import TwoCaptcha\n",
    "\n",
    "key = \"0968ef0f2a24ff3d1b8ba332afd980f4\"\n",
    "api_key = key #os.getenv('APIKEY_2CAPTCHA', key)\n",
    "\n",
    "solver = TwoCaptcha(api_key)\n",
    "\n",
    "#resp = requests.get(\"http://2captcha.com/demo/geetest\")\n",
    "#challenge = resp.content.decode('utf-8').split(';')[0]\n",
    "# https://api.geetest.com/get.php?gt=022397c99c9f646f6477822485f30404&challenge=a176f1e96c2a70f4ede2cee659bc21c8&lang=en&pt=0&client_type=web&w=d99CcyazKL1uEfeAFkv6fxDLiJKx8psWdzLLcXd0PLGCQ9BMb4zQ4GHNoSWrzl2eC5urONQxxBB3o(GiP9Tf9gMwF9nd2m3I784rmJjUVKahmkR6lYa3euzhruflATv2Cr8tI93WMxn7S9OkZ58rvCoj9hzQrZwKR)gZ(UePFhoXCq2Q9kDdqAr53SVg(cAIn4K(lR4gOk)Xi7dOE5l2EkPVVk9nSa9J2SKyF3V5VmhDoUxkj2vm0edsYGHywitnRsQuwZF(OObKNMA)xK2D55MuFNVxvbcfvZKKQHE8Rr(gUl8ulmcSugPCMYlVlzxRrbjGWQ3HQ)BjaCGcchQv7au(FrBzGMlrvvw04NkMFtm2lF2yjBWuppnB099mcwXnVTRPeQYnH5ye9O9kDdXIBGXLh7PLcSHf9TUj8v5WuEBs(aL1c5zr6iZW0Rf1f9SDbRGSbhxA0HdS8jXmhnrsp11C0EC(AegkqBhpToql4UDWfW(WBl4qVNocFQKP3afJ5Rwo4bmgDwGJZ8mYczsHIO0pNNT(1IL(KP5JC3sH2d(sRmxVMqUFsOcXhyeLMyIk)SBVdGn1rllYBEz2KF0lDaId1)WHWlK7nVNGzj8A1q367K8OSjInEEvwRbwkJKstdDuyui7duHArQTBVatsCA)tYXR5EDMIQO9dM2TcqLSsEzXPwsQipiv2vi1soKfNEUb80LXS1phhcy4OG7rzp6BdxE8Fl(gZvTkI7HHmzCbEg8nunO8baHeQEIoCDrggm3xIqcCYq2tRUlVof7d83A2NWRa2zEpl1E4Af89CPq6uKDGdCLfOgVBmig4LgHVdS(LK)DT46iomIV5MqHJqBHkKD()flT8LqR8euLbiDtWmPH)q2zhu9tSE4GkEd4NIbtyGODoKdSQn(5qguHflcHJeAeall)JRBSWwGTkIe27nec50BtznJfmMt3hQ9uDp9m0ER4CjfEGF2eLVibwBPlW6rY4aATEQw3K8fMZMM(6RNpQnTAuWT2PqEiXWTVocUUyJq1AuYMaLO7XezWb(0puVmAqmzCs0cR8Z26g2a4YEwlNZrZn4fpvKUo1esmHgd3BsSBzG)8ZkwK6aMdTVq5yyq1Q2NMnyRSWhbSmV8j4hnox9bITno20tpbOM7Sjnyo8ZsAOvXaqoGpL3D92z5BIz5XfYCG5yPk6emsLcVnQW7LviRAb5K9RvraDBAgy4)zP913O4cYDXcBl54z98B8N3HoGHUH5RWqtAEYEYIlACSPOfnsouKEgTaswj9Z1VLHLpKnhG16XEWDkA0xj3X2XzUt5jLcrY8H2d2NAPCOI)t9v0dqzWVG1eC1LnjyuDnLL6ZUiuMldmMNoZQ(kWvjNfb)nN0ANCrAbW8pKK2MkuWNTpyq3dWKXssvGE5pUEN6AYRviqYyuo(AxNst4Hp2suewkjj1NyQl9HcoeSZpNp7c1tW30YbFpg0vKokxd6zHYTh3Iu8V8AsFlg2j4T76FucZpCSBFWEESM2KHYOPV0yHzPuYDdp8xL7OeJUCvzZUG325ZAMER85e2d)eHpmj3()pwDaFUjzBvZs(7MlfnjYf1HvT(QzgO9Xrx3xfD4Sq)SPObWE5jBUY(xTnVAAgAxCCxXAZRHVfIhYMsEMSx0rNoD0xr0kxm4vTsSBybI8DPMN4Frz8X21MN8lqXIB(JuIFfqZ3fe4pA3jA2xjiAo6epOFkt7i0rJ(5LZeUCelhdii7IaCoMOHuHtTKhT08XZONzceLgMpu3MXRsZfPqCPqm1sdO1wV7GYArnIyqfHnGqAZHTxcte7JxuCS6GoK9e(X)XYQd31T2vnugQoP)2AYOnrhBUJ6OZljWe2szZqbfQMJvp)YxaULh5ekr83mMHsVuJYlR4RGksYZ)fxgiv9a0JqoFMlF7gUaRynvKgV7Tm5Uj7b1iXT3)FWVta3ELxG6umBktt5mZxv8HXxn1Q8TCNEzP2JyH3GBrj9mKbAFhbbbSbRJ4wyfjm(AEV50(GlGXmZUDtLrxWWnVAdyI1aPAIL8TpyB4062eZL)l5MTq6JoHNj8Qwx0AxE5ZUFChNQXlgAZWiC7PkCrnlcqJhU3ICw2qNal6K3Ql9aPuDnZrUxTH(IjjoquKynFbj(tUZvTBOdRdVKOkAwdnV3aPKq42dNYdn6KP6IF1Jz)02CYc4jV1Mf4TOIZ1FxclZMclisNzKBCjq8(FA9CGpP()BDemaAR3tkWGmT)KoTa(bIyKsxX)erKvCH0MhgxFy3grLiD0ihyE)DrG8XgU)OSmEdIMP0aoux0dpeCTctpOr)k9AVZoebPjBa8Ggf2DUqmVHths6)e3oCvEGmDjCApoQnKRz)F5SM96CgRsOuEPJyIE3L9LM83Hn2DkuiB0098VXmM)3sb3)iMMl792FrqiM.8464e7fbffbf36152c2def1c25a6630fe5eda16f87f810e2dd5305286ab6598503f437b48bdf4f844f0d752e07eb9a13ceb41d652a986a5634fcd8359ec8e9588442cf8c40d546f72ef44a97d4ec23568d3d40c05512538d7173dd6fdf568d712b35ca16dda20d4d5db5c4380eae47ee0d9ab082776d9f8a83dee6ad51a27836&callback=geetest_1649254013148\n",
    "try:\n",
    "    result = solver.geetest(gt='72bf15796d0b69c43867452fea615052',\n",
    "                            apiServer='api.geetest.com',\n",
    "                            challenge=\"19088fe9-d5e6-4cea-a86f-fe88f1814f82\",\n",
    "                            url='https://www.leolist.cc/personals/female-escorts/greater-toronto/durham_stripper_upscale_playmate_lets_play_daddy-6985565')\n",
    "\n",
    "except Exception as e:\n",
    "    sys.exit(e)\n",
    "\n",
    "else:\n",
    "    sys.exit('solved: ' + str(result))"
   ]
  },
  {
   "cell_type": "code",
   "execution_count": null,
   "metadata": {},
   "outputs": [],
   "source": [
    "https://gcaptcha4.geetest.com/load?captcha_id=72bf15796d0b69c43867452fea615052&challenge=19088fe9-d5e6-4cea-a86f-fe88f1814f82&client_type=web&lang=en&callback=geetest_1649253736976"
   ]
  },
  {
   "cell_type": "code",
   "execution_count": 54,
   "metadata": {},
   "outputs": [
    {
     "ename": "SystemExit",
     "evalue": "ERROR_CAPTCHA_UNSOLVABLE",
     "output_type": "error",
     "traceback": [
      "\u001b[1;31m---------------------------------------------------------------------------\u001b[0m",
      "\u001b[1;31mSystemExit\u001b[0m                                Traceback (most recent call last)",
      "\u001b[1;32m<ipython-input-53-7b56b3ef8070>\u001b[0m in \u001b[0;36m<module>\u001b[1;34m\u001b[0m\n\u001b[0;32m     23\u001b[0m \u001b[1;33m\u001b[0m\u001b[0m\n\u001b[0;32m     24\u001b[0m \u001b[1;32mexcept\u001b[0m \u001b[0mException\u001b[0m \u001b[1;32mas\u001b[0m \u001b[0me\u001b[0m\u001b[1;33m:\u001b[0m\u001b[1;33m\u001b[0m\u001b[1;33m\u001b[0m\u001b[0m\n\u001b[1;32m---> 25\u001b[1;33m     \u001b[0msys\u001b[0m\u001b[1;33m.\u001b[0m\u001b[0mexit\u001b[0m\u001b[1;33m(\u001b[0m\u001b[0me\u001b[0m\u001b[1;33m)\u001b[0m\u001b[1;33m\u001b[0m\u001b[1;33m\u001b[0m\u001b[0m\n\u001b[0m\u001b[0;32m     26\u001b[0m \u001b[1;33m\u001b[0m\u001b[0m\n\u001b[0;32m     27\u001b[0m \u001b[1;32melse\u001b[0m\u001b[1;33m:\u001b[0m\u001b[1;33m\u001b[0m\u001b[1;33m\u001b[0m\u001b[0m\n",
      "\u001b[1;32m<ipython-input-53-7b56b3ef8070>\u001b[0m in \u001b[0;36m<module>\u001b[1;34m\u001b[0m\n\u001b[0;32m     20\u001b[0m                             \u001b[0mapiServer\u001b[0m\u001b[1;33m=\u001b[0m\u001b[1;34m'gcaptcha4.geetest.com'\u001b[0m\u001b[1;33m,\u001b[0m\u001b[1;33m\u001b[0m\u001b[1;33m\u001b[0m\u001b[0m\n\u001b[0;32m     21\u001b[0m                             \u001b[0mchallenge\u001b[0m\u001b[1;33m=\u001b[0m\u001b[1;34m\"19088fe9-d5e6-4cea-a86f-fe88f1814f82\"\u001b[0m\u001b[1;33m,\u001b[0m\u001b[1;33m\u001b[0m\u001b[1;33m\u001b[0m\u001b[0m\n\u001b[1;32m---> 22\u001b[1;33m                             url='https://www.leolist.cc/personals/female-escorts/greater-toronto/durham_stripper_upscale_playmate_lets_play_daddy-6985565')\n\u001b[0m\u001b[0;32m     23\u001b[0m \u001b[1;33m\u001b[0m\u001b[0m\n\u001b[0;32m     24\u001b[0m \u001b[1;32mexcept\u001b[0m \u001b[0mException\u001b[0m \u001b[1;32mas\u001b[0m \u001b[0me\u001b[0m\u001b[1;33m:\u001b[0m\u001b[1;33m\u001b[0m\u001b[1;33m\u001b[0m\u001b[0m\n",
      "\u001b[1;32m~\\Anaconda3\\lib\\site-packages\\twocaptcha\\solver.py\u001b[0m in \u001b[0;36mgeetest\u001b[1;34m(self, gt, challenge, url, **kwargs)\u001b[0m\n\u001b[0;32m    176\u001b[0m                             \u001b[0murl\u001b[0m\u001b[1;33m=\u001b[0m\u001b[0murl\u001b[0m\u001b[1;33m,\u001b[0m\u001b[1;33m\u001b[0m\u001b[1;33m\u001b[0m\u001b[0m\n\u001b[0;32m    177\u001b[0m                             \u001b[0mmethod\u001b[0m\u001b[1;33m=\u001b[0m\u001b[1;34m'geetest'\u001b[0m\u001b[1;33m,\u001b[0m\u001b[1;33m\u001b[0m\u001b[1;33m\u001b[0m\u001b[0m\n\u001b[1;32m--> 178\u001b[1;33m                             **kwargs)\n\u001b[0m\u001b[0;32m    179\u001b[0m         \u001b[1;32mreturn\u001b[0m \u001b[0mresult\u001b[0m\u001b[1;33m\u001b[0m\u001b[1;33m\u001b[0m\u001b[0m\n\u001b[0;32m    180\u001b[0m \u001b[1;33m\u001b[0m\u001b[0m\n",
      "\u001b[1;32m~\\Anaconda3\\lib\\site-packages\\twocaptcha\\solver.py\u001b[0m in \u001b[0;36msolve\u001b[1;34m(self, timeout, polling_interval, **kwargs)\u001b[0m\n\u001b[0;32m    409\u001b[0m             \u001b[0msleep\u001b[0m \u001b[1;33m=\u001b[0m \u001b[0mint\u001b[0m\u001b[1;33m(\u001b[0m\u001b[0mpolling_interval\u001b[0m \u001b[1;32mor\u001b[0m \u001b[0mself\u001b[0m\u001b[1;33m.\u001b[0m\u001b[0mpolling_interval\u001b[0m\u001b[1;33m)\u001b[0m\u001b[1;33m\u001b[0m\u001b[1;33m\u001b[0m\u001b[0m\n\u001b[0;32m    410\u001b[0m \u001b[1;33m\u001b[0m\u001b[0m\n\u001b[1;32m--> 411\u001b[1;33m             \u001b[0mcode\u001b[0m \u001b[1;33m=\u001b[0m \u001b[0mself\u001b[0m\u001b[1;33m.\u001b[0m\u001b[0mwait_result\u001b[0m\u001b[1;33m(\u001b[0m\u001b[0mid_\u001b[0m\u001b[1;33m,\u001b[0m \u001b[0mtimeout\u001b[0m\u001b[1;33m,\u001b[0m \u001b[0msleep\u001b[0m\u001b[1;33m)\u001b[0m\u001b[1;33m\u001b[0m\u001b[1;33m\u001b[0m\u001b[0m\n\u001b[0m\u001b[0;32m    412\u001b[0m             \u001b[0mresult\u001b[0m\u001b[1;33m.\u001b[0m\u001b[0mupdate\u001b[0m\u001b[1;33m(\u001b[0m\u001b[1;33m{\u001b[0m\u001b[1;34m'code'\u001b[0m\u001b[1;33m:\u001b[0m \u001b[0mcode\u001b[0m\u001b[1;33m}\u001b[0m\u001b[1;33m)\u001b[0m\u001b[1;33m\u001b[0m\u001b[1;33m\u001b[0m\u001b[0m\n\u001b[0;32m    413\u001b[0m \u001b[1;33m\u001b[0m\u001b[0m\n",
      "\u001b[1;32m~\\Anaconda3\\lib\\site-packages\\twocaptcha\\solver.py\u001b[0m in \u001b[0;36mwait_result\u001b[1;34m(self, id_, timeout, polling_interval)\u001b[0m\n\u001b[0;32m    421\u001b[0m \u001b[1;33m\u001b[0m\u001b[0m\n\u001b[0;32m    422\u001b[0m             \u001b[1;32mtry\u001b[0m\u001b[1;33m:\u001b[0m\u001b[1;33m\u001b[0m\u001b[1;33m\u001b[0m\u001b[0m\n\u001b[1;32m--> 423\u001b[1;33m                 \u001b[1;32mreturn\u001b[0m \u001b[0mself\u001b[0m\u001b[1;33m.\u001b[0m\u001b[0mget_result\u001b[0m\u001b[1;33m(\u001b[0m\u001b[0mid_\u001b[0m\u001b[1;33m)\u001b[0m\u001b[1;33m\u001b[0m\u001b[1;33m\u001b[0m\u001b[0m\n\u001b[0m\u001b[0;32m    424\u001b[0m \u001b[1;33m\u001b[0m\u001b[0m\n\u001b[0;32m    425\u001b[0m             \u001b[1;32mexcept\u001b[0m \u001b[0mNetworkException\u001b[0m\u001b[1;33m:\u001b[0m\u001b[1;33m\u001b[0m\u001b[1;33m\u001b[0m\u001b[0m\n",
      "\u001b[1;32m~\\Anaconda3\\lib\\site-packages\\twocaptcha\\solver.py\u001b[0m in \u001b[0;36mget_result\u001b[1;34m(self, id_)\u001b[0m\n\u001b[0;32m    464\u001b[0m     \u001b[1;32mdef\u001b[0m \u001b[0mget_result\u001b[0m\u001b[1;33m(\u001b[0m\u001b[0mself\u001b[0m\u001b[1;33m,\u001b[0m \u001b[0mid_\u001b[0m\u001b[1;33m)\u001b[0m\u001b[1;33m:\u001b[0m\u001b[1;33m\u001b[0m\u001b[1;33m\u001b[0m\u001b[0m\n\u001b[0;32m    465\u001b[0m \u001b[1;33m\u001b[0m\u001b[0m\n\u001b[1;32m--> 466\u001b[1;33m         \u001b[0mresponse\u001b[0m \u001b[1;33m=\u001b[0m \u001b[0mself\u001b[0m\u001b[1;33m.\u001b[0m\u001b[0mapi_client\u001b[0m\u001b[1;33m.\u001b[0m\u001b[0mres\u001b[0m\u001b[1;33m(\u001b[0m\u001b[0mkey\u001b[0m\u001b[1;33m=\u001b[0m\u001b[0mself\u001b[0m\u001b[1;33m.\u001b[0m\u001b[0mAPI_KEY\u001b[0m\u001b[1;33m,\u001b[0m \u001b[0maction\u001b[0m\u001b[1;33m=\u001b[0m\u001b[1;34m'get'\u001b[0m\u001b[1;33m,\u001b[0m \u001b[0mid\u001b[0m\u001b[1;33m=\u001b[0m\u001b[0mid_\u001b[0m\u001b[1;33m)\u001b[0m\u001b[1;33m\u001b[0m\u001b[1;33m\u001b[0m\u001b[0m\n\u001b[0m\u001b[0;32m    467\u001b[0m \u001b[1;33m\u001b[0m\u001b[0m\n\u001b[0;32m    468\u001b[0m         \u001b[1;32mif\u001b[0m \u001b[0mresponse\u001b[0m \u001b[1;33m==\u001b[0m \u001b[1;34m'CAPCHA_NOT_READY'\u001b[0m\u001b[1;33m:\u001b[0m\u001b[1;33m\u001b[0m\u001b[1;33m\u001b[0m\u001b[0m\n",
      "\u001b[1;32m~\\Anaconda3\\lib\\site-packages\\twocaptcha\\api.py\u001b[0m in \u001b[0;36mres\u001b[1;34m(self, **kwargs)\u001b[0m\n\u001b[0;32m    111\u001b[0m \u001b[1;33m\u001b[0m\u001b[0m\n\u001b[0;32m    112\u001b[0m             \u001b[1;32mif\u001b[0m \u001b[1;34m'ERROR'\u001b[0m \u001b[1;32min\u001b[0m \u001b[0mresp\u001b[0m\u001b[1;33m:\u001b[0m\u001b[1;33m\u001b[0m\u001b[1;33m\u001b[0m\u001b[0m\n\u001b[1;32m--> 113\u001b[1;33m                 \u001b[1;32mraise\u001b[0m \u001b[0mApiException\u001b[0m\u001b[1;33m(\u001b[0m\u001b[0mresp\u001b[0m\u001b[1;33m)\u001b[0m\u001b[1;33m\u001b[0m\u001b[1;33m\u001b[0m\u001b[0m\n\u001b[0m\u001b[0;32m    114\u001b[0m \u001b[1;33m\u001b[0m\u001b[0m\n\u001b[0;32m    115\u001b[0m         \u001b[1;32mexcept\u001b[0m \u001b[0mrequests\u001b[0m\u001b[1;33m.\u001b[0m\u001b[0mRequestException\u001b[0m \u001b[1;32mas\u001b[0m \u001b[0me\u001b[0m\u001b[1;33m:\u001b[0m\u001b[1;33m\u001b[0m\u001b[1;33m\u001b[0m\u001b[0m\n",
      "\u001b[1;31mSystemExit\u001b[0m: ERROR_CAPTCHA_UNSOLVABLE"
     ]
    }
   ],
   "source": [
    "%tb"
   ]
  },
  {
   "cell_type": "code",
   "execution_count": 1,
   "metadata": {},
   "outputs": [
    {
     "ename": "SystemExit",
     "evalue": "ERROR_CAPTCHA_UNSOLVABLE",
     "output_type": "error",
     "traceback": [
      "An exception has occurred, use %tb to see the full traceback.\n",
      "\u001b[1;31mSystemExit\u001b[0m\u001b[1;31m:\u001b[0m ERROR_CAPTCHA_UNSOLVABLE\n"
     ]
    },
    {
     "name": "stderr",
     "output_type": "stream",
     "text": [
      "C:\\Users\\juanc\\Anaconda3\\lib\\site-packages\\IPython\\core\\interactiveshell.py:3333: UserWarning: To exit: use 'exit', 'quit', or Ctrl-D.\n",
      "  warn(\"To exit: use 'exit', 'quit', or Ctrl-D.\", stacklevel=1)\n"
     ]
    }
   ],
   "source": [
    "# https://github.com/2captcha/2captcha-python\n",
    "\n",
    "import sys\n",
    "import os\n",
    "import requests\n",
    "#sys.path.append(os.path.dirname(os.path.dirname(os.path.realpath(__file__))))\n",
    "\n",
    "from twocaptcha import TwoCaptcha\n",
    "\n",
    "key = \"0968ef0f2a24ff3d1b8ba332afd980f4\"\n",
    "api_key = key #os.getenv('APIKEY_2CAPTCHA', key)\n",
    "\n",
    "solver = TwoCaptcha(api_key)\n",
    "\n",
    "#resp = requests.get(\"http://2captcha.com/demo/geetest\")\n",
    "#challenge = resp.content.decode('utf-8').split(';')[0]\n",
    "# https://api.geetest.com/get.php?gt=022397c99c9f646f6477822485f30404&challenge=a176f1e96c2a70f4ede2cee659bc21c8&lang=en&pt=0&client_type=web&w=d99CcyazKL1uEfeAFkv6fxDLiJKx8psWdzLLcXd0PLGCQ9BMb4zQ4GHNoSWrzl2eC5urONQxxBB3o(GiP9Tf9gMwF9nd2m3I784rmJjUVKahmkR6lYa3euzhruflATv2Cr8tI93WMxn7S9OkZ58rvCoj9hzQrZwKR)gZ(UePFhoXCq2Q9kDdqAr53SVg(cAIn4K(lR4gOk)Xi7dOE5l2EkPVVk9nSa9J2SKyF3V5VmhDoUxkj2vm0edsYGHywitnRsQuwZF(OObKNMA)xK2D55MuFNVxvbcfvZKKQHE8Rr(gUl8ulmcSugPCMYlVlzxRrbjGWQ3HQ)BjaCGcchQv7au(FrBzGMlrvvw04NkMFtm2lF2yjBWuppnB099mcwXnVTRPeQYnH5ye9O9kDdXIBGXLh7PLcSHf9TUj8v5WuEBs(aL1c5zr6iZW0Rf1f9SDbRGSbhxA0HdS8jXmhnrsp11C0EC(AegkqBhpToql4UDWfW(WBl4qVNocFQKP3afJ5Rwo4bmgDwGJZ8mYczsHIO0pNNT(1IL(KP5JC3sH2d(sRmxVMqUFsOcXhyeLMyIk)SBVdGn1rllYBEz2KF0lDaId1)WHWlK7nVNGzj8A1q367K8OSjInEEvwRbwkJKstdDuyui7duHArQTBVatsCA)tYXR5EDMIQO9dM2TcqLSsEzXPwsQipiv2vi1soKfNEUb80LXS1phhcy4OG7rzp6BdxE8Fl(gZvTkI7HHmzCbEg8nunO8baHeQEIoCDrggm3xIqcCYq2tRUlVof7d83A2NWRa2zEpl1E4Af89CPq6uKDGdCLfOgVBmig4LgHVdS(LK)DT46iomIV5MqHJqBHkKD()flT8LqR8euLbiDtWmPH)q2zhu9tSE4GkEd4NIbtyGODoKdSQn(5qguHflcHJeAeall)JRBSWwGTkIe27nec50BtznJfmMt3hQ9uDp9m0ER4CjfEGF2eLVibwBPlW6rY4aATEQw3K8fMZMM(6RNpQnTAuWT2PqEiXWTVocUUyJq1AuYMaLO7XezWb(0puVmAqmzCs0cR8Z26g2a4YEwlNZrZn4fpvKUo1esmHgd3BsSBzG)8ZkwK6aMdTVq5yyq1Q2NMnyRSWhbSmV8j4hnox9bITno20tpbOM7Sjnyo8ZsAOvXaqoGpL3D92z5BIz5XfYCG5yPk6emsLcVnQW7LviRAb5K9RvraDBAgy4)zP913O4cYDXcBl54z98B8N3HoGHUH5RWqtAEYEYIlACSPOfnsouKEgTaswj9Z1VLHLpKnhG16XEWDkA0xj3X2XzUt5jLcrY8H2d2NAPCOI)t9v0dqzWVG1eC1LnjyuDnLL6ZUiuMldmMNoZQ(kWvjNfb)nN0ANCrAbW8pKK2MkuWNTpyq3dWKXssvGE5pUEN6AYRviqYyuo(AxNst4Hp2suewkjj1NyQl9HcoeSZpNp7c1tW30YbFpg0vKokxd6zHYTh3Iu8V8AsFlg2j4T76FucZpCSBFWEESM2KHYOPV0yHzPuYDdp8xL7OeJUCvzZUG325ZAMER85e2d)eHpmj3()pwDaFUjzBvZs(7MlfnjYf1HvT(QzgO9Xrx3xfD4Sq)SPObWE5jBUY(xTnVAAgAxCCxXAZRHVfIhYMsEMSx0rNoD0xr0kxm4vTsSBybI8DPMN4Frz8X21MN8lqXIB(JuIFfqZ3fe4pA3jA2xjiAo6epOFkt7i0rJ(5LZeUCelhdii7IaCoMOHuHtTKhT08XZONzceLgMpu3MXRsZfPqCPqm1sdO1wV7GYArnIyqfHnGqAZHTxcte7JxuCS6GoK9e(X)XYQd31T2vnugQoP)2AYOnrhBUJ6OZljWe2szZqbfQMJvp)YxaULh5ekr83mMHsVuJYlR4RGksYZ)fxgiv9a0JqoFMlF7gUaRynvKgV7Tm5Uj7b1iXT3)FWVta3ELxG6umBktt5mZxv8HXxn1Q8TCNEzP2JyH3GBrj9mKbAFhbbbSbRJ4wyfjm(AEV50(GlGXmZUDtLrxWWnVAdyI1aPAIL8TpyB4062eZL)l5MTq6JoHNj8Qwx0AxE5ZUFChNQXlgAZWiC7PkCrnlcqJhU3ICw2qNal6K3Ql9aPuDnZrUxTH(IjjoquKynFbj(tUZvTBOdRdVKOkAwdnV3aPKq42dNYdn6KP6IF1Jz)02CYc4jV1Mf4TOIZ1FxclZMclisNzKBCjq8(FA9CGpP()BDemaAR3tkWGmT)KoTa(bIyKsxX)erKvCH0MhgxFy3grLiD0ihyE)DrG8XgU)OSmEdIMP0aoux0dpeCTctpOr)k9AVZoebPjBa8Ggf2DUqmVHths6)e3oCvEGmDjCApoQnKRz)F5SM96CgRsOuEPJyIE3L9LM83Hn2DkuiB0098VXmM)3sb3)iMMl792FrqiM.8464e7fbffbf36152c2def1c25a6630fe5eda16f87f810e2dd5305286ab6598503f437b48bdf4f844f0d752e07eb9a13ceb41d652a986a5634fcd8359ec8e9588442cf8c40d546f72ef44a97d4ec23568d3d40c05512538d7173dd6fdf568d712b35ca16dda20d4d5db5c4380eae47ee0d9ab082776d9f8a83dee6ad51a27836&callback=geetest_1649254013148\n",
    "try:\n",
    "    result = solver.geetest(gt='72bf15796d0b69c43867452fea615052',\n",
    "                            apiServer='api.geetest.com',\n",
    "                            challenge=\"bc3a5060a84d4da5928f7f876a631e2d\",\n",
    "                            url='https://www.leolist.cc/personals/female-escorts/greater-toronto/durham_stripper_upscale_playmate_lets_play_daddy-6985565')\n",
    "\n",
    "except Exception as e:\n",
    "    sys.exit(e)\n",
    "\n",
    "else:\n",
    "    sys.exit('solved: ' + str(result))"
   ]
  },
  {
   "cell_type": "code",
   "execution_count": null,
   "metadata": {},
   "outputs": [],
   "source": [
    "{\"success\":true,\"captcha_id\":\"72bf15796d0b69c43867452fea615052\"}"
   ]
  }
 ],
 "metadata": {
  "kernelspec": {
   "display_name": "Python 3",
   "language": "python",
   "name": "python3"
  },
  "language_info": {
   "codemirror_mode": {
    "name": "ipython",
    "version": 3
   },
   "file_extension": ".py",
   "mimetype": "text/x-python",
   "name": "python",
   "nbconvert_exporter": "python",
   "pygments_lexer": "ipython3",
   "version": "3.7.3"
  }
 },
 "nbformat": 4,
 "nbformat_minor": 4
}
