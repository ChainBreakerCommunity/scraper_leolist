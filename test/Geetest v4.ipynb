{
 "cells": [
  {
   "cell_type": "markdown",
   "metadata": {},
   "source": [
    "# Geetest v4"
   ]
  },
  {
   "cell_type": "code",
   "execution_count": 54,
   "metadata": {},
   "outputs": [],
   "source": [
    "# https://github.com/2captcha/2captcha-python\n",
    "import requests\n",
    "import sys\n",
    "import json"
   ]
  },
  {
   "cell_type": "code",
   "execution_count": 55,
   "metadata": {},
   "outputs": [
    {
     "name": "stdout",
     "output_type": "stream",
     "text": [
      "Post request:  http://2captcha.com/in.php?key=0968ef0f2a24ff3d1b8ba332afd980f4&method=geetest_v4&captcha_id=72bf15796d0b69c43867452fea615052&&pageurl=https://www.leolist.cc/personals/female-escorts/greater-toronto/city_toronto_downtown_fun_thick_sweet_and_juicy_cum_see_me_now-6998683\n"
     ]
    }
   ],
   "source": [
    "api_key = \"0968ef0f2a24ff3d1b8ba332afd980f4\"\n",
    "captcha_id = \"72bf15796d0b69c43867452fea615052\"\n",
    "pageurl = \"https://www.leolist.cc/personals/female-escorts/greater-toronto/city_toronto_downtown_fun_thick_sweet_and_juicy_cum_see_me_now-6998683\"\n",
    "\n",
    "route = \"http://2captcha.com/in.php?key={api_key}&method=geetest_v4&captcha_id={captcha_id}&&pageurl={pageurl}\".format(api_key = api_key, captcha_id = captcha_id, pageurl = pageurl)\n",
    "print(\"Post request: \", route)\n",
    "result = requests.post(route)"
   ]
  },
  {
   "cell_type": "code",
   "execution_count": 56,
   "metadata": {},
   "outputs": [],
   "source": [
    "req_id = result.text[3:]"
   ]
  },
  {
   "cell_type": "code",
   "execution_count": 64,
   "metadata": {},
   "outputs": [
    {
     "name": "stdout",
     "output_type": "stream",
     "text": [
      "Get request:  http://2captcha.com/res.php?key=0968ef0f2a24ff3d1b8ba332afd980f4&action=get&id=70082152377\n"
     ]
    }
   ],
   "source": [
    "route = \"http://2captcha.com/res.php?key={api_key}&action=get&id={req_id}\".format(api_key = api_key, req_id = req_id)\n",
    "print(\"Get request: \", route)\n",
    "response = requests.get(route)\n",
    "response.status"
   ]
  },
  {
   "cell_type": "code",
   "execution_count": 65,
   "metadata": {},
   "outputs": [
    {
     "data": {
      "text/plain": [
       "'{\"captcha_id\":\"72bf15796d0b69c43867452fea615052\",\"lot_number\":\"86504a65aab9496b9dc18830d8b619dd\",\"pass_token\":\"0f9e1433089ac96ecfd1a76f0f6a1844b4af93315ffba9ee9c507f906284e931\",\"gen_time\":\"1649477369\",\"captcha_output\":\"QMSMLCB4Fs58XZrBrecNrezOXAS5z5UzAP3ex_EBxmD9dYWMdZvGV29xzhZbIjESHGU5ZU0dF11fFNMKURZKY_-VdmtwbEchRhbVyBC2OoovvpDZAexApXItG34mTonCsTKdhqkcYWOkw2dqbEZRT9WNk07HIQWNvk0gFHxKn17dRBijzUni-Df1bQJm0c0c\"}'"
      ]
     },
     "execution_count": 65,
     "metadata": {},
     "output_type": "execute_result"
    }
   ],
   "source": [
    "string = response.text[3:]\n",
    "string\n",
    "# \"CHA_NOT_READY\""
   ]
  },
  {
   "cell_type": "code",
   "execution_count": 66,
   "metadata": {},
   "outputs": [
    {
     "data": {
      "text/plain": [
       "{'captcha_id': '72bf15796d0b69c43867452fea615052',\n",
       " 'lot_number': '86504a65aab9496b9dc18830d8b619dd',\n",
       " 'pass_token': '0f9e1433089ac96ecfd1a76f0f6a1844b4af93315ffba9ee9c507f906284e931',\n",
       " 'gen_time': '1649477369',\n",
       " 'captcha_output': 'QMSMLCB4Fs58XZrBrecNrezOXAS5z5UzAP3ex_EBxmD9dYWMdZvGV29xzhZbIjESHGU5ZU0dF11fFNMKURZKY_-VdmtwbEchRhbVyBC2OoovvpDZAexApXItG34mTonCsTKdhqkcYWOkw2dqbEZRT9WNk07HIQWNvk0gFHxKn17dRBijzUni-Df1bQJm0c0c'}"
      ]
     },
     "execution_count": 66,
     "metadata": {},
     "output_type": "execute_result"
    }
   ],
   "source": [
    "## import json    # or `import simplejson as json` if on Python < 2.6\n",
    "obj = json.loads(string)    # obj now contains a dict of the data\n",
    "obj"
   ]
  },
  {
   "cell_type": "code",
   "execution_count": null,
   "metadata": {},
   "outputs": [],
   "source": [
    "<script charset=\"UTF-8\" src=\"https://gcaptcha4.geetest.com/verify?captcha_id=72bf15796d0b69c43867452fea615052&amp;challenge=6c3013c3-80ae-40ee-884e-7f78588ab4dd&amp;client_type=web&amp;lot_number=e7396fa2764541efa0eb04bb3aa490d7&amp;pt=1&amp;w=c06cb4253cdc7a939efbd35e368d6f46ba36e50c4a9764e6e5ae8b6838ab48c55e1e0757a5ef0f2e43fcd7b46c2f215b86dfb22c845ee02681fe4a592c4bab9d26bb4927557986ab3af76f284e48b4004adf5a8b59539400cd41c6882523de665678a66c9940fc04298d591e3c4c95b6ec9b3691b4536d1766e33668ee6a3b66bc16f82e5130b85691e0cdfe0bc8d5b3a9ee451e209048378eeebd994692b220f4472aaed6ed6e3207f4e4a6735e47ed8297687d3da707c7702e3703482f59e05faa7e9636bd8ccbc935e9fa31c56fb35a218b2c447dd396a210b3121e57d39809492c8f966b2c48f6d1e3df1222319b490d72d0bf8ed594796fdfb754107879a96c9aea8eb1c2de76ef2c045ff1e990c8b5fcc35b4c0f58af67ab1aa2c7d8d2d19f5b5f8dd5d595ab53ce2d5c9966267d59d32ed2994c5936581a266d83a623cf4213e3b61ef6895d102725c5f34a92b8d5587eea7d17460d09ed4c796b1a0c85e38c8ccf597d2a4fbdad5c179d871fb29b767eac25c657afd253ec3b0c017c1e6f81eeead3a6f872251d32973582bf895d5f2cf4501a509622de02054364851e464ceeaa2b29b3786d7c3060b79f272c885c790645d646ff51f34582a14c8b474af67a4374a06f15c522db9205556768d9ac64fc404bf71c9f5bf75e78b001f811e3c69c1d57c09498405edf1503cbcfac172bc301df2217f5645fe49b811ee1f750682a233a9bb4394d18426aad6150831cef1b3964641ea6494289722725fa6463742d1b5a498fc8a4ea17045869c7deed3455c76f6deb3c6f91648c9db85d343d5eb82d70dbe4e1ddca4462ee3f4a5d8b52a7450484b8b6003cbe1cd998fa6084bdc8709888ccea0b5f3ededd912879827d8ea8b488c74da4fcb60825ad5aa13cb190d65f839d4801dd720fe7ed61f457c3b4618f6d2b42c1ced7f1ce00f4bf8dc14543961956dd1a3406e7fa65c3c3353a509a26953c4b7dc108389ef201092f05e4445adc6439cf2ccea1c841b4474d22f6d8e0766e93dee5af834a7ee6483029affde3af3ec9d6dbc8907e5b8c8d819cf835700369ce1e910cf5eaa227241ffece5c8b04af8080258c16d676189abcda2c7e2d9d80f49ba09bbf41c50c3f95cb81b8931b4746acd27959447e8f13f0351c31033267ad3478b9fc48a019e2b4b95ae99ab7ee6f0fea13a7a10fc70db9cf4d8905fb93a2b06b2c1e13fdbf01103cf4b3cc78a29a6f88b34e52a7&amp;callback=geetest_1649478058429\"></script>"
   ]
  },
  {
   "cell_type": "code",
   "execution_count": null,
   "metadata": {},
   "outputs": [],
   "source": [
    "<script charset=\"UTF-8\" src=\"https://gcaptcha4.geetest.com/verify?captcha_id=72bf15796d0b69c43867452fea615052&amp;challenge=6c3013c3-80ae-40ee-884e-7f78588ab4dd&amp;client_type=web&amp;lot_number=e7396fa2764541efa0eb04bb3aa490d7&amp;pt=1&amp;w=c06cb4253cdc7a939efbd35e368d6f46ba36e50c4a9764e6e5ae8b6838ab48c55e1e0757a5ef0f2e43fcd7b46c2f215b86dfb22c845ee02681fe4a592c4bab9d26bb4927557986ab3af76f284e48b4004adf5a8b59539400cd41c6882523de665678a66c9940fc04298d591e3c4c95b6ec9b3691b4536d1766e33668ee6a3b66bc16f82e5130b85691e0cdfe0bc8d5b3a9ee451e209048378eeebd994692b220f4472aaed6ed6e3207f4e4a6735e47ed8297687d3da707c7702e3703482f59e05faa7e9636bd8ccbc935e9fa31c56fb35a218b2c447dd396a210b3121e57d39809492c8f966b2c48f6d1e3df1222319b490d72d0bf8ed594796fdfb754107879a96c9aea8eb1c2de76ef2c045ff1e990c8b5fcc35b4c0f58af67ab1aa2c7d8d2d19f5b5f8dd5d595ab53ce2d5c9966267d59d32ed2994c5936581a266d83a623cf4213e3b61ef6895d102725c5f34a92b8d5587eea7d17460d09ed4c796b1a0c85e38c8ccf597d2a4fbdad5c179d871fb29b767eac25c657afd253ec3b0c017c1e6f81eeead3a6f872251d32973582bf895d5f2cf4501a509622de02054364851e464ceeaa2b29b3786d7c3060b79f272c885c790645d646ff51f34582a14c8b474af67a4374a06f15c522db9205556768d9ac64fc404bf71c9f5bf75e78b001f811e3c69c1d57c09498405edf1503cbcfac172bc301df2217f5645fe49b811ee1f750682a233a9bb4394d18426aad6150831cef1b3964641ea6494289722725fa6463742d1b5a498fc8a4ea17045869c7deed3455c76f6deb3c6f91648c9db85d343d5eb82d70dbe4e1ddca4462ee3f4a5d8b52a7450484b8b6003cbe1cd998fa6084bdc8709888ccea0b5f3ededd912879827d8ea8b488c74da4fcb60825ad5aa13cb190d65f839d4801dd720fe7ed61f457c3b4618f6d2b42c1ced7f1ce00f4bf8dc14543961956dd1a3406e7fa65c3c3353a509a26953c4b7dc108389ef201092f05e4445adc6439cf2ccea1c841b4474d22f6d8e0766e93dee5af834a7ee6483029affde3af3ec9d6dbc8907e5b8c8d819cf835700369ce1e910cf5eaa227241ffece5c8b04af8080258c16d676189abcda2c7e2d9d80f49ba09bbf41c50c3f95cb81b8931b4746acd27959447e8f13f0351c31033267ad3478b9fc48a019e2b4b95ae99ab7ee6f0fea13a7a10fc70db9cf4d8905fb93a2b06b2c1e13fdbf01103cf4b3cc78a29a6f88b34e52a7&amp;callback=geetest_1649478058429\"></script>"
   ]
  }
 ],
 "metadata": {
  "kernelspec": {
   "display_name": "Python 3",
   "language": "python",
   "name": "python3"
  },
  "language_info": {
   "codemirror_mode": {
    "name": "ipython",
    "version": 3
   },
   "file_extension": ".py",
   "mimetype": "text/x-python",
   "name": "python",
   "nbconvert_exporter": "python",
   "pygments_lexer": "ipython3",
   "version": "3.7.3"
  }
 },
 "nbformat": 4,
 "nbformat_minor": 4
}
